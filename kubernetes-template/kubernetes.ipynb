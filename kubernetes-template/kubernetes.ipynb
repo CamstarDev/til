{
 "cells": [
  {
   "cell_type": "markdown",
   "metadata": {},
   "source": [
    "## Kubernetes Learing\n"
   ]
  },
  {
   "cell_type": "markdown",
   "metadata": {},
   "source": [
    "### command\n"
   ]
  },
  {
   "cell_type": "code",
   "execution_count": null,
   "metadata": {
    "vscode": {
     "languageId": "shellscript"
    }
   },
   "outputs": [],
   "source": [
    "#设置污点\n",
    "kubectl taint nodes node1 key=value:effect\n",
    "\n",
    "# 去除污点\n",
    "kubectl taint nodes node1 key:effect-\n",
    "\n",
    "# 去除所有污点\n",
    "kubectl taint nodes node1 key-\n",
    "\n",
    "kubectl taint nodes node1 tag=heima:PreferNoSchedule\n",
    "kubectl taint nodes node1 tag=heima:NoSchedule\n",
    "kubectl taint nodes node1 tag=heima:NoExecute "
   ]
  }
 ],
 "metadata": {
  "language_info": {
   "name": "python"
  },
  "orig_nbformat": 4
 },
 "nbformat": 4,
 "nbformat_minor": 2
}
