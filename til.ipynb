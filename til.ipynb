{
 "cells": [
  {
   "cell_type": "markdown",
   "metadata": {},
   "source": [
    "# Today I Learned"
   ]
  },
  {
   "cell_type": "markdown",
   "metadata": {},
   "source": [
    "## 2023-07-14"
   ]
  },
  {
   "cell_type": "markdown",
   "metadata": {},
   "source": [
    "##### 虽然在Main() 方法的作用域内声明了两个变量 j, 这段代码也会编译：一个是在类级别上定义的 j, 在类Progmm 删除前（在本例中，是 Ma 亩 0 方法终止，程序结束时）是不会超出作用域的：一个是在 Ma 中定义的 j 。这里，在 Main() 方法中声明的新变量 j 隐藏了同名的类级别变量，所以在运行这段代码时，会显示数字 30 。但是，如果要引用类级别变量，可以使用语法 object.fieldname, 在对象的外部引用类或结构的字段。在上面的例子中，访问静态方法中的一个静态字段，所以不能使用类的实例，只能使用类本身的名称。如果要访问实例字段（该字段属于类的一个特定实例），就需要使用 this 关键字。"
   ]
  },
  {
   "cell_type": "code",
   "execution_count": null,
   "metadata": {
    "dotnet_interactive": {
     "language": "csharp"
    },
    "polyglot_notebook": {
     "kernelName": "csharp"
    }
   },
   "outputs": [],
   "source": [
    "using System;\n",
    "\n",
    "    public class Program{\n",
    "        static int j = 0;\n",
    "        private int i = 10;\n",
    "        public static void Main(string[] args){\n",
    "\n",
    "            int j = 20;\n",
    "            Console.WriteLine(j); // 20\n",
    "            Console.WriteLine(Program.j); // 0\n",
    "            new Program().PrintField();\n",
    "        }\n",
    "\n",
    "        public void PrintField(){\n",
    "            Console.WriteLine(this.i); // this for class field\n",
    "        }\n",
    "    }\n",
    "Program.Main(new string[] {\"a\",\"b\"});"
   ]
  },
  {
   "cell_type": "markdown",
   "metadata": {},
   "source": [
    "#### 如何在PolyPlot中使用Python内核，\n",
    "- 在Annoconda Prompt 中打开项目\n",
    "- code . \n",
    "- 在cell中执行 "
   ]
  },
  {
   "cell_type": "code",
   "execution_count": 17,
   "metadata": {
    "dotnet_interactive": {
     "language": "csharp"
    },
    "polyglot_notebook": {
     "kernelName": "csharp"
    }
   },
   "outputs": [],
   "source": [
    "#!connect jupyter --kernel-name <YourKernelName> --kernel-spec python3"
   ]
  },
  {
   "cell_type": "markdown",
   "metadata": {},
   "source": [
    "#### 如何使用github创建多分支仓库\n"
   ]
  },
  {
   "cell_type": "markdown",
   "metadata": {},
   "source": [
    "1. git init <RepoName>\n",
    "2. git add . \n",
    "3. git commit -m \"\"\n",
    "4. git remote add <remoteName> <RepoUrl>\n",
    "5. git push --set-upstream <remoteName> <branch>"
   ]
  }
 ],
 "metadata": {
  "kernelspec": {
   "display_name": ".NET (C#)",
   "language": "C#",
   "name": ".net-csharp"
  },
  "language_info": {
   "name": "polyglot-notebook"
  },
  "polyglot_notebook": {
   "kernelInfo": {
    "defaultKernelName": "csharp",
    "items": [
     {
      "aliases": [],
      "languageName": "csharp",
      "name": "csharp"
     },
     {
      "aliases": [],
      "languageName": "python",
      "name": "pythonkernel"
     }
    ]
   }
  }
 },
 "nbformat": 4,
 "nbformat_minor": 2
}
