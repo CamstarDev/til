{
 "cells": [
  {
   "cell_type": "markdown",
   "metadata": {},
   "source": [
    "## Js Notes\n",
    "\n",
    "#### var 的作用域\n",
    "\n",
    "var 的作用域比 let 大，let 声明的变量作用域不会超出块，使用 var 声明的是全局变量，属于 windows 对象\n",
    "通过 let 关键词定义的全局变量不属于 window 对象：\n",
    "允许在程序的任何位置使用 var 重新声明 JavaScript 变量,在相同的作用域，或在相同的块中，通过 let 重新声明一个 var 变量是不允许的：\n",
    "在相同的作用域，或在相同的块中，通过 let 重新声明一个 let 变量是不允许的：\n",
    "在相同的作用域，或在相同的块中，通过 var 重新声明一个 let 变量是不允许的：\n"
   ]
  },
  {
   "cell_type": "code",
   "execution_count": 5,
   "metadata": {
    "dotnet_interactive": {
     "language": "javascript"
    },
    "polyglot_notebook": {
     "kernelName": "javascript"
    },
    "vscode": {
     "languageId": "polyglot-notebook"
    }
   },
   "outputs": [
    {
     "data": {
      "text/plain": [
       "10"
      ]
     },
     "metadata": {},
     "output_type": "display_data"
    },
    {
     "data": {
      "text/plain": [
       "null"
      ]
     },
     "metadata": {},
     "output_type": "display_data"
    },
    {
     "ename": "Error",
     "evalue": "b is not defined",
     "output_type": "error",
     "traceback": [
      "b is not defined"
     ]
    }
   ],
   "source": [
    "{\n",
    "    var a  = 10;\n",
    "}\n",
    "\n",
    "var age = 10;\n",
    "console.log(a);\n",
    "console.log(window.age); //浏览器运行\n",
    "\n",
    "{\n",
    "    let b = 10;\n",
    "}\n",
    "console.log(b);"
   ]
  },
  {
   "cell_type": "markdown",
   "metadata": {},
   "source": [
    "在不同的作用域或块中，通过 let 重新声明变量是允许的; 提升通过 var 声明的变量会提升到顶端,可以在声明之前就使用变量，使用 let 声明的变量不行\n"
   ]
  },
  {
   "cell_type": "code",
   "execution_count": 10,
   "metadata": {
    "dotnet_interactive": {
     "language": "javascript"
    },
    "polyglot_notebook": {
     "kernelName": "javascript"
    },
    "vscode": {
     "languageId": "polyglot-notebook"
    }
   },
   "outputs": [],
   "source": [
    "a + 1; //允许\n",
    "var a;\n",
    "// x + 1;  //不允许\n",
    "let x = 6;       // 允许\n",
    "\n",
    "{\n",
    "  let x = 7;   // 允许\n",
    "}\n",
    "\n",
    "{\n",
    "  let x = 8;   // 允许\n",
    "}"
   ]
  },
  {
   "cell_type": "markdown",
   "metadata": {},
   "source": [
    "通过 const 定义的变量与 let 变量类似，但不能重新赋值;\n",
    "在块作用域内使用 const 声明的变量与 let 变量相似;\n",
    "JavaScript const 变量必须在声明时赋值;\n",
    "关键字 const 有一定的误导性。它没有定义常量值。它定义了对值的常量引用;因此，我们不能更改常量原始值，但我们可以更改常量对象的属性;"
   ]
  },
  {
   "cell_type": "code",
   "execution_count": 11,
   "metadata": {
    "dotnet_interactive": {
     "language": "javascript"
    },
    "polyglot_notebook": {
     "kernelName": "javascript"
    },
    "vscode": {
     "languageId": "polyglot-notebook"
    }
   },
   "outputs": [
    {
     "ename": "Error",
     "evalue": "Assignment to constant variable.",
     "output_type": "error",
     "traceback": [
      "Assignment to constant variable."
     ]
    }
   ],
   "source": [
    "const PI = 3.141592653589793;\n",
    "PI = 3.14;      // 会出错\n",
    "PI = PI + 10;   // 也会出错\n",
    "//\n",
    "var x = 10;\n",
    "// 此处，x 为 10\n",
    "{ \n",
    "  const x = 6;\n",
    "  // 此处，x 为 6\n",
    "}\n",
    "// 此处，x 为 10"
   ]
  },
  {
   "cell_type": "markdown",
   "metadata": {},
   "source": [
    "可以更改常量对象的属性：\n"
   ]
  },
  {
   "cell_type": "code",
   "execution_count": 12,
   "metadata": {
    "dotnet_interactive": {
     "language": "javascript"
    },
    "polyglot_notebook": {
     "kernelName": "javascript"
    },
    "vscode": {
     "languageId": "polyglot-notebook"
    }
   },
   "outputs": [],
   "source": [
    "//相当于常量指针,指向无法改变,但指向的内容可以改变\n",
    "\n",
    "// 可以创建 const 对象：\n",
    "const car = {type:\"porsche\", model:\"911\", color:\"Black\"};\n",
    "\n",
    "// 您可以更改属性：\n",
    "car.color = \"White\";\n",
    "\n",
    "// 您可以添加属性：\n",
    "car.owner = \"Bill\";\n",
    "\n",
    "// 无法对其进行重新指向\n",
    "const car = {type:\"porsche\", model:\"911\", color:\"Black\"};\n",
    "car = {type:\"Volvo\", model:\"XC60\", color:\"White\"};    // ERROR"
   ]
  },
  {
   "cell_type": "markdown",
   "metadata": {},
   "source": [
    "对象\n"
   ]
  },
  {
   "cell_type": "code",
   "execution_count": 16,
   "metadata": {
    "dotnet_interactive": {
     "language": "javascript"
    },
    "polyglot_notebook": {
     "kernelName": "javascript"
    },
    "vscode": {
     "languageId": "polyglot-notebook"
    }
   },
   "outputs": [
    {
     "data": {
      "text/plain": [
       "Bill Gates"
      ]
     },
     "metadata": {},
     "output_type": "display_data"
    }
   ],
   "source": [
    "var person = {\n",
    "    firstName: \"Bill\",\n",
    "    lastName : \"Gates\",\n",
    "    id       : 678,\n",
    "    fullName : function() {\n",
    "      return this.firstName + \" \" + this.lastName;\n",
    "    }\n",
    "  };\n",
    "  //访问对象属性\n",
    "  person[\"firstName\"];\n",
    "  console.log(person.fullName());"
   ]
  },
  {
   "cell_type": "markdown",
   "metadata": {},
   "source": [
    "=== 运算符需要类型和值同时相等"
   ]
  },
  {
   "cell_type": "code",
   "execution_count": 18,
   "metadata": {
    "dotnet_interactive": {
     "language": "javascript"
    },
    "polyglot_notebook": {
     "kernelName": "javascript"
    },
    "vscode": {
     "languageId": "polyglot-notebook"
    }
   },
   "outputs": [],
   "source": [
    "var x = \"Bill\";             \n",
    "var y = new String(\"Bill\");\n",
    "x === y\n",
    "// (x === y) 为 false，因为 x 和 y 的类型不同（字符串与对象）\n"
   ]
  },
  {
   "cell_type": "markdown",
   "metadata": {},
   "source": [
    "String 操作方法"
   ]
  },
  {
   "cell_type": "code",
   "execution_count": 1,
   "metadata": {
    "dotnet_interactive": {
     "language": "javascript"
    },
    "polyglot_notebook": {
     "kernelName": "javascript"
    },
    "vscode": {
     "languageId": "polyglot-notebook"
    }
   },
   "outputs": [
    {
     "ename": "Error",
     "evalue": "Unexpected token ')'",
     "output_type": "error",
     "traceback": [
      "Unexpected token ')'"
     ]
    }
   ],
   "source": [
    "var str = \"The full name of China is the People's Republic of China.\";\n",
    "var pos = str.lastIndexOf(\"China\", 50);\n",
    "var pos1 = str.indexOf(\"China\",10);\n",
    "var pos = str.search(\"locate\");\n",
    "//search() 方法无法设置第二个开始位置参数。\n",
    "//indexOf() 方法无法设置更强大的搜索值（正则表达式）。\n",
    "/*\n",
    "\n",
    "有三种提取部分字符串的方法：\n",
    "\n",
    "slice(start, end)\n",
    "substring(start, end)\n",
    "substr(start, length)\n",
    "*/\n",
    "\n",
    "\n",
    "var res = str.slice(7,13);\n",
    "\n",
    "//如果某个参数为负，则从字符串的结尾开始计数。 前一个索引要小于后一个 \n",
    "var res = str.slice(-7,-1);\n",
    "var res = str.slice(7); //[7,..]\n",
    "var res = str.slice(-13); // [^13,..]\n",
    "\n",
    "//substring() 类似于 slice()。不同之处在于 substring() 无法接受负的索引。\n",
    "var res = str.substring(7,13);\n",
    "\n",
    "//substr() 类似于 slice()。 第二个参数规定截取的长度,而不是结束位置\n",
    "var res = str.substr(0,10); //[0,10]\n",
    "\n",
    "//如果首个参数为负，则从字符串的结尾计算位置。\n",
    "var res = str.substr(-1); //[...,^1]\n",
    "\n",
    "\n",
    "//replace() 方法用另一个值替换在字符串中指定的值\n",
    "str = \"Please visit Microsoft!\";\n",
    "var n = str.replace(\"Microsoft\", \"W3School\");\n",
    "// replace() 方法不会改变调用它的字符串。它返回的是新字符串。默认地，replace() 只替换首个匹配： 默认地，replace() 对大小写敏感\n",
    "//如需执行大小写不敏感的替换，请使用正则表达式 /i（\n",
    "var n = str.replace(/MICROSOFT/i, \"W3School\");\n",
    "\n",
    "//如需替换所有匹配，请使用正则表达式的 g 标志（用于全局搜索）：\n",
    "var n = str.replace(/Microsoft/g, \"W3School\");\n",
    "\n",
    "var text2 = text1.toUpperCase();\n",
    "var text2 = text1.toLowerCase();\n",
    "\n",
    "//连接字符串\n",
    "var text1 = \"Hello\";\n",
    "var text2 = \"World\";\n",
    "text3 = text1.concat(\" \",text2);\n",
    "//去除空格\n",
    "var str = \"       Hello World!        \";\n",
    "alert(str.trim());\n",
    "\n",
    "//替换\n",
    "var str = \"       Hello World!        \";\n",
    "alert(str.replace(/^[\\s\\uFEFF\\xA0]+|[\\s\\uFEFF\\xA0]+$/g, ''));\n",
    "\n",
    "if (!String.prototype.trim) {\n",
    "    String.prototype.trim = function () {\n",
    "      return this.replace(/^[\\s\\uFEFF\\xA0]+|[\\s\\uFEFF\\xA0]+$/g, '');\n",
    "  };\n",
    "  var str = \"       Hello World!        \";\n",
    "  alert(str.trim());\n",
    "\n",
    "  // 返回指定下标的字符串\n",
    "var str = \"HELLO WORLD\";\n",
    "str.charAt(0);            // 返回 H\n",
    "var a = str.charCodeAt(0);  //unicode 字符\n",
    "console.log(a);\n",
    "//将字符串转化为数组\n",
    "var txt = \"a,b,c,d,e\";   // 字符串\n",
    "txt.split(\",\");          // 用逗号分隔\n",
    "txt.split(\" \");          // 用空格分隔\n",
    "txt.split(\"|\");          // 用竖线分隔\n",
    "\n",
    "/*\n",
    "\n",
    "用于搜索字符串的 JavaScript 方法：\n",
    "\n",
    "String.indexOf()\n",
    "String.lastIndexOf()\n",
    "String.startsWith()\n",
    "String.endsWith()\n",
    "如果未找到文本，indexOf() 和 lastIndexOf() 都返回 -1：\n",
    "lastIndexOf() 方法向后搜索（从末尾到开头），意思是：如果第二个参数是 15，则从位置 15 开始搜索，一直搜索到字符串的开头。\n",
    "\n",
    "indexOf() 和 search() 这两个方法，相等吗？\n",
    "\n",
    "它们接受相同的参数，并返回相同的值？\n",
    "\n",
    "这两种方法并不相等。差别如下：\n",
    "\n",
    "search() 方法不能接受第二个起始位置参数。\n",
    "indexOf() 方法不能采用强大的搜索值（正则表达式）。\n",
    "\n",
    "indexOf() 和 search() 这两个方法，相等吗？\n",
    "\n",
    "它们接受相同的参数，并返回相同的值？\n",
    "\n",
    "这两种方法并不相等。差别如下：\n",
    "\n",
    "search() 方法不能接受第二个起始位置参数。\n",
    "indexOf() 方法不能采用强大的搜索值（正则表达式）。\n",
    "*/\n",
    "\n",
    "\n"
   ]
  },
  {
   "cell_type": "code",
   "execution_count": null,
   "metadata": {
    "dotnet_interactive": {
     "language": "javascript"
    },
    "polyglot_notebook": {
     "kernelName": "javascript"
    },
    "vscode": {
     "languageId": "polyglot-notebook"
    }
   },
   "outputs": [],
   "source": [
    "let text = \"The rain in SPAIN stays mainly in the plain\";\n",
    "text.match(/ain/g)    // 返回数组 [ain,ain,ain]\n",
    "let text = \"The rain in SPAIN stays mainly in the plain\";\n",
    "text.match(/ain/gi)   // 返回数组 [ain,AIN,ain,ain]\n",
    "\n",
    "//包含指定值返回true\n",
    "let text = \"Hello world, welcome to the universe.\";\n",
    "text.includes(\"world\",10)    // 返回 true\n",
    "\n",
    "//字符串模板\n",
    "let firstName = \"Bill\";\n",
    "let lastName = \"Gates\";\n",
    "\n",
    "let text = `Welcome ${firstName}, ${lastName}!`;\n",
    "\n",
    "let header = \"Templates Literals\";\n",
    "let tags = [\"template literals\", \"javascript\", \"es6\"];\n",
    "\n",
    "let html = `<h2>${header}</h2><ul>`;\n",
    "for (const x of tags) {\n",
    "  html += `<li>${x}</li>`;\n",
    "}\n",
    "\n",
    "html += `</ul>`;"
   ]
  },
  {
   "cell_type": "markdown",
   "metadata": {},
   "source": [
    "使用属性访问有点不太靠谱： str[0]\n",
    "\n",
    "不适用 Internet Explorer 7 或更早的版本\n",
    "它让字符串看起来像是数组（其实并不是）\n",
    "如果找不到字符，[ ] 返回 undefined，而 charAt() 返回空字符串。\n",
    "它是只读的。str[0] = \"A\" 不会产生错误（但也不会工作！）"
   ]
  },
  {
   "cell_type": "code",
   "execution_count": 4,
   "metadata": {
    "dotnet_interactive": {
     "language": "javascript"
    },
    "polyglot_notebook": {
     "kernelName": "javascript"
    },
    "vscode": {
     "languageId": "polyglot-notebook"
    }
   },
   "outputs": [
    {
     "data": {
      "text/plain": [
       "72"
      ]
     },
     "metadata": {},
     "output_type": "display_data"
    }
   ],
   "source": [
    "var str = \"HELLO WORLD\";\n",
    "var a = str.charCodeAt(0);  //unicode 字符\n",
    "console.log(a);"
   ]
  },
  {
   "cell_type": "markdown",
   "metadata": {},
   "source": [
    "#### 数字\n"
   ]
  },
  {
   "cell_type": "code",
   "execution_count": 13,
   "metadata": {
    "dotnet_interactive": {
     "language": "javascript"
    },
    "polyglot_notebook": {
     "kernelName": "javascript"
    },
    "vscode": {
     "languageId": "polyglot-notebook"
    }
   },
   "outputs": [],
   "source": [
    "\n",
    "var x =  2 / 0;          // x 将是 Infinity\n",
    "var y = -2 / 0;          // y 将是 -Infinity\n"
   ]
  },
  {
   "cell_type": "code",
   "execution_count": 11,
   "metadata": {
    "dotnet_interactive": {
     "language": "javascript"
    },
    "polyglot_notebook": {
     "kernelName": "javascript"
    },
    "vscode": {
     "languageId": "polyglot-notebook"
    }
   },
   "outputs": [
    {
     "ename": "Error",
     "evalue": "x is not defined",
     "output_type": "error",
     "traceback": [
      "x is not defined"
     ]
    }
   ],
   "source": [
    "x"
   ]
  },
  {
   "cell_type": "markdown",
   "metadata": {},
   "source": [
    "JavaScript 整数精度\n",
    "JavaScript 整数最多只能精确到 15 位, 如需创建 BigInt，可以在整数末尾添加 n，或调用 BigInt() 函数：\n",
    "\n",
    "这些数字方法可用于所有 JavaScript 数字：\n",
    "\n",
    "方法\t           描述\n",
    "toString()\t      将数字作为字符串返回。\n",
    "toExponential()\t  返回以指数表示法书写的数字。\n",
    "toFixed()\t      返回带小数位数的数字。\n",
    "toPrecision()\t  返回指定长度的数字。\n",
    "ValueOf()\t      以数字形式返回数字。"
   ]
  },
  {
   "cell_type": "code",
   "execution_count": 15,
   "metadata": {
    "dotnet_interactive": {
     "language": "javascript"
    },
    "polyglot_notebook": {
     "kernelName": "javascript"
    },
    "vscode": {
     "languageId": "polyglot-notebook"
    }
   },
   "outputs": [],
   "source": [
    "let x = 9.656;\n",
    "x.toExponential(2);\n",
    "x.toExponential(4);\n",
    "x.toExponential(6);\n",
    "\n",
    "//带有指定位数的小数部分 会进行四舍五入\n",
    "x.toFixed(0);\n",
    "x.toFixed(2);\n",
    "x.toFixed(4);\n",
    "x.toFixed(6);\n",
    "\n",
    "//返回一个字符串 包含指定长度的数字\n",
    "x.toPrecision();\n",
    "x.toPrecision(2);\n",
    "x.toPrecision(4);\n",
    "x.toPrecision(6);\n",
    "\n",
    "//以数字形式返回数字\n",
    "let x = 123;\n",
    "x.valueOf();\n",
    "(123).valueOf();\n",
    "(100 + 23).valueOf();\n",
    "\n",
    "//转化为数字形式 无法转化则返回NAN\n",
    "let x = 123;\n",
    "x.valueOf();\n",
    "(123).valueOf();\n",
    "(100 + 23).valueOf();\n",
    "\n",
    "//解析字符串并返回整数 允许有空格 仅仅返回第一个数字\n",
    "parseInt(\"-10\");\n",
    "parseInt(\"-10.33\");\n",
    "parseInt(\"10\");\n",
    "parseInt(\"10.33\");\n",
    "parseInt(\"10 20 30\");\n",
    "parseInt(\"10 years\");\n",
    "parseInt(\"years 10\");\n",
    "\n",
    "parseFloat(\"10\");\n",
    "parseFloat(\"10.33\");\n",
    "parseFloat(\"10 20 30\");\n",
    "parseFloat(\"10 years\");\n",
    "parseFloat(\"years 10\");"
   ]
  },
  {
   "cell_type": "code",
   "execution_count": 28,
   "metadata": {
    "dotnet_interactive": {
     "language": "javascript"
    },
    "polyglot_notebook": {
     "kernelName": "javascript"
    },
    "vscode": {
     "languageId": "polyglot-notebook"
    }
   },
   "outputs": [
    {
     "data": {
      "text/plain": [
       "sasa,bmw,audi"
      ]
     },
     "metadata": {},
     "output_type": "display_data"
    },
    {
     "data": {
      "text/plain": [
       "function Array() { [native code] }"
      ]
     },
     "metadata": {},
     "output_type": "display_data"
    },
    {
     "data": {
      "text/plain": [
       "function Object() { [native code] }"
      ]
     },
     "metadata": {},
     "output_type": "display_data"
    }
   ],
   "source": [
    "//数组\n",
    "var cars = ['sasa','bmw','audi'];\n",
    "console.log(cars+'')\n",
    "\n",
    "//数组属性和方法\n",
    "var x = cars.length;   // length 属性返回元素的数量\n",
    "var y = cars.sort();   // sort() 方法对数组进行排序\n",
    "\n",
    "var fruits, text;\n",
    "fruits = [\"Banana\", \"Orange\", \"Apple\", \"Mango\"];\n",
    "\n",
    "text = \"<ul>\";\n",
    "fruits.forEach(myFunction);\n",
    "text += \"</ul>\";\n",
    "\n",
    "//function closure\n",
    "function myFunction(value) {\n",
    "  text += \"<li>\" + value + \"</li>\";\n",
    "} \n",
    "//向数组添加元素的最佳方法 push() 方法返回新数组的长度： \n",
    "var fruits = [\"Banana\", \"Orange\", \"Apple\", \"Mango\"];\n",
    "var newLength = fruits.push(\"Lemon\");                // 向 fruits 添加一个新元素 (Lemon)\n",
    "\n",
    "//向超过数组最高索引的位置添加元素会创造一个hole\n",
    "var fruits = [\"Banana\", \"Orange\", \"Apple\", \"Mango\"];\n",
    "fruits[6] = \"Lemon\";                 // 向 fruits 添加一个新元素 (Lemon)\n",
    "console.log(fruits.constructor) ;\n",
    "var person = {}\n",
    "console.log(person.constructor) ;\n"
   ]
  },
  {
   "cell_type": "code",
   "execution_count": 6,
   "metadata": {
    "dotnet_interactive": {
     "language": "javascript"
    },
    "polyglot_notebook": {
     "kernelName": "javascript"
    },
    "vscode": {
     "languageId": "polyglot-notebook"
    }
   },
   "outputs": [],
   "source": [
    "//在 JavaScript 中，数组只能使用数字索引。假如您使用命名索引，JavaScript 会把数组重定义为标准对象。之后，所有数组的方法和属性将产生非正确结果。\n",
    "var person = [];\n",
    "person[\"firstName\"] = \"Bill\";  //可以这样访问对象属性 \n",
    "person[\"lastName\"] = \"Gates\";\n",
    "person[\"age\"] = 62;\n",
    "var x = person.length;         // person.length 将返回 0\n",
    "var y = person[0];     \n",
    "\n",
    "//在 JavaScript 中，数组使用数字索引。在 JavaScript 中，对象使用命名索引。\n",
    "\n",
    "//ECMAScript 5 定义了新方法 Array.isArray()： 判断一个对象是否是一个数组\n",
    "Array.isArray();\n",
    "//或者自定义函数\n",
    "function isArray(x) {\n",
    "    return x.constructor.toString().indexOf(\"Array\") > -1;\n",
    "}\n",
    "\n",
    "var fruits = [\"Banana\", \"Orange\", \"Apple\", \"Mango\"];\n",
    "// document.getElementById(\"demo\").innerHTML = fruits.toString(); \n",
    "//Banana,Orange,Apple,Mango\n",
    "var fruits = [\"Banana\", \"Orange\", \"Apple\", \"Mango\"];\n",
    "var x = fruits.pop();              // 从 fruits 删除最后一个元素（\"Mango\"）\n",
    "\n",
    "//shift() 方法会删除首个数组元素，并把所有其他元素“位移”到更低的索引。\n",
    "var fruits = [\"Banana\", \"Orange\", \"Apple\", \"Mango\"];\n",
    "var x = fruits.shift();     \n",
    "\n",
    "//unshift() 方法（在开头）向数组添加新元素，并“反向位移”旧元素：\n",
    "var fruits = [\"Banana\", \"Orange\", \"Apple\", \"Mango\"];\n",
    "fruits.unshift(\"Lemon\");    // 向 fruits 添加新元素 \"Lemon\"\n",
    "\n",
    "//向数组添加新项 第一个参数（2）定义了应添加新元素的位置（拼接）。第二个参数（0）定义应删除多少元素。其余参数（“Lemon”，“Kiwi”）定义要添加的新元素。\n",
    "var fruits = [\"Banana\", \"Orange\", \"Apple\", \"Mango\"];\n",
    "fruits.splice(2, 0, \"Lemon\", \"Kiwi\");    //[Banana,Orange,Lemon,Kiwi,Apple,Mango]\n",
    "\n",
    "//使用splice删除元素\n",
    "var fruits = [\"Banana\", \"Orange\", \"Apple\", \"Mango\"];\n",
    "fruits.splice(0, 1);       //shift()\n",
    "\n",
    "//合并连接数组\n",
    "var myGirls = [\"Cecilie\", \"Lone\"];\n",
    "var myBoys = [\"Emil\", \"Tobias\", \"Linus\"];\n",
    "var myChildren = myGirls.concat(myBoys);   // 连接 myGirls 和 myBoys\n",
    "var myChildren = myGirls + myBoys;\n",
    "\n",
    "var arr1 = [\"Cecilie\", \"Lone\"];\n",
    "var arr2 = [\"Emil\", \"Tobias\", \"Linus\"];\n",
    "var arr3 = [\"Robin\", \"Morgan\"];\n",
    "var myChildren = arr1.concat(arr2, arr3);   // 将arr1、arr2 与 arr3 连接在一起\n",
    "\n",
    "//裁剪数组 slice() 方法创建新数组。它不会从源数组中删除任何元素。\n",
    "var fruits = [\"Banana\", \"Orange\", \"Lemon\", \"Apple\", \"Mango\"];\n",
    "var citrus = fruits.slice(1);   //[Orange,Lemon,Apple,Mango]\n",
    "\n",
    "//slice() 可接受两个参数，比如 (1, 3)。 该方法会从开始参数选取元素，直到结束参数（不包括）为止。\n",
    "var fruits = [\"Banana\", \"Orange\", \"Lemon\", \"Apple\", \"Mango\"]; \n",
    "var citrus = fruits.slice(1, 3);  //fruits[1,3]\n",
    "\n",
    "//sort() 方法以字母顺序对数组进行排序：\n",
    "\n",
    "var fruits = [\"Banana\", \"Orange\", \"Apple\", \"Mango\"];\n",
    "fruits.sort();            // 对 fruits 中的元素进行排序\n",
    "\n",
    "//反转数组\n",
    "var fruits = [\"Banana\", \"Orange\", \"Apple\", \"Mango\"];\n",
    "fruits.sort();            // 对 fruits 中的元素进行排序\n",
    "fruits.reverse();         // 反转元素顺序\n",
    "//如果数字按照字符串来排序，则 \"25\" 大于 \"100\"，因为 \"2\" 大于 \"1\"\n",
    "var points = [40, 100, 1, 5, 25, 10];\n",
    "points.sort(function(a, b){return a - b}); \n",
    "\n",
    "//比较函数的目的是定义另一种排序顺序。比较函数应该返回一个负，零或正值，这取决于参数：\n",
    "var a = function(a, b){return a-b}\n",
    "/*\n",
    "当比较 40 和 100 时，sort() 方法会调用比较函数 function(40,100)。\n",
    "\n",
    "该函数计算 40-100，然后返回 -60（负值）。\n",
    "\n",
    "排序函数将把 40 排序为比 100 更低的值。 \n",
    "*/\n",
    "\n",
    "//以随机顺序对数组进行排序\n",
    "var points = [40, 100, 1, 5, 25, 10];\n",
    "points.sort(function(a, b){return 0.5 - Math.random()}); \n",
    "\n",
    "\n",
    "//查找最大值\n",
    "var points = [40, 100, 1, 5, 25, 10];\n",
    "points.sort(function(a, b){return a - b});\n",
    "\n",
    "// 现在 points[0] 包含最低值\n",
    "// 而 points[points.length-1] 包含最高值\n",
    "\n",
    "function myArrayMax(arr) {\n",
    "    return Math.max.apply(null, arr);\n",
    "}\n",
    "\n",
    "Math.max.apply([1,2,3]); \n",
    "Math.max(1,2,3);\n",
    "\n",
    "//排序对象数组\n",
    "var cars = [\n",
    "    {type:\"Volvo\", year:2016},\n",
    "    {type:\"Saab\", year:2001},\n",
    "    {type:\"BMW\", year:2010}];\n",
    "\n",
    "cars.sort(function(a, b){return a.year - b.year});  //按照年份升序排序\n",
    "\n",
    "//数组迭代\n",
    "// Array.forEach()\n",
    "// forEach() 方法为每个数组元素调用一次函数（回调函数）。\n",
    "var txt = \"\";\n",
    "var numbers = [45, 4, 9, 16, 25];\n",
    "numbers.forEach(myFunction);\n",
    "\n",
    "function myFunction(value, index, array) {\n",
    "  txt = txt + value + \"<br>\"; \n",
    "}\n",
    "\n",
    "//项目值 项目索引 数组本身\n",
    "\n",
    "//map() 方法通过对每个数组元素执行函数来创建新数组。\n",
    "\n",
    "//map() 方法不会对没有值的数组元素执行函数。\n",
    "\n",
    "//map() 方法不会更改原始数组。\n",
    "var numbers1 = [45, 4, 9, 16, 25];\n",
    "var numbers2 = numbers1.map(\n",
    "    (value,index,array)=> `${value}--${index}`\n",
    ");\n",
    "\n",
    "//创建一个包含通过测试的数组元素的新数组\n",
    "var numbers = [45, 4, 9, 16, 25];\n",
    "var over18 = numbers.filter(myFunction);\n",
    "\n",
    "function myFunction(value) {\n",
    "  return value > 18;\n",
    "}\n",
    "\n",
    "//reduce 方法在每个数组元素上运行函数来生成单个值 从左到右工作，不会减少原始数组\n",
    "var numbers1 = [45, 4, 9, 16, 25];\n",
    "var sum = numbers1.reduce(myFunction);\n",
    "\n",
    "// 总数（初始值/先前返回的值） total(init)\n",
    "function myFunction(total, value, index, array) {\n",
    "  return total + value;\n",
    "}\n",
    "\n",
    "//reduce() 方法能够接受一个初始值：\n",
    "var sumStartWith100 = numbers1.reduce(myFunction, 100);\n",
    "\n",
    "// reduceRight() 方法在数组中从右到左工作。\n",
    "var numbers1 = [45, 4, 9, 16, 25];\n",
    "var sum = numbers1.reduceRight(myFunction);\n",
    "\n",
    "function myFunction(total, value, index, array) {\n",
    "  return total + value;\n",
    "}\n",
    "\n",
    "//检查是否所有数组元素都通过测试\n",
    "var numbers = [45, 4, 9, 16, 25];\n",
    "var allOver18 = numbers.every(myFunction);\n",
    "\n",
    "function myFunction(value) {\n",
    "  return value > 18;\n",
    "}\n",
    "\n",
    "//检查是否存在某些数组通过了测试\n",
    "var numbers = [45, 4, 9, 16, 25];\n",
    "var someOver18 = numbers.some(value=>value>18);\n",
    " \n",
    "//indexOf() 方法在数组中搜索元素值并返回其位置。 lastIndexOf()\n",
    "var fruits = [\"Apple\", \"Orange\", \"Apple\", \"Mango\"];\n",
    "var a = fruits.indexOf(\"Apple\");\n",
    "\n",
    "//find() 方法返回通过测试函数的第一个数组元素的值。\n",
    "//findIndex() 方法返回通过测试函数的第一个数组元素的索引\n",
    "var numbers = [4, 9, 16, 25, 29];\n",
    "var first = numbers.find(value=>value>18); //25\n",
    "var firstIndex = numbers.find(value=>value<5);\n",
    "//数组 Const\n",
    "const cars = [\"Saab\", \"Volvo\", \"BMW\"];\n",
    "//用 const 声明的数组不能重新赋值 它不定义常量数组。它定义的是对数组的常量引用。我们仍然可以更改常量数组的元素。\n",
    "cars[1] = 'Audi';\n"
   ]
  },
  {
   "cell_type": "code",
   "execution_count": 7,
   "metadata": {
    "dotnet_interactive": {
     "language": "javascript"
    },
    "polyglot_notebook": {
     "kernelName": "javascript"
    },
    "vscode": {
     "languageId": "polyglot-notebook"
    }
   },
   "outputs": [],
   "source": [
    "\n",
    "\n",
    "//new Date() 用当前日期和时间创建新的日期对象：\n",
    "//new Date(year, month, ...) 用指定日期和时间创建新的日期对象 年、月、日、小时、分钟、秒和毫秒\n",
    "var d = new Date(2018, 11, 24, 10, 33, 30, 0);\n",
    "\n",
    "//JavaScript 从 0 到 11 计算月份。\n",
    "var d = new Date(2018, 11, 24, 10, 33, 30);\n",
    "\n",
    "//不能省略月份。如果只提供一个参数，则将其视为毫秒。\n",
    "var d = new Date(2018);\n",
    "\n",
    "//一位和两位数年份将被解释为 19xx 年：\n",
    "var d = new Date(99, 11, 24);\n",
    "\n",
    "//Tue Jan 25 1910 00:00:00 GMT+0800 (China Standard Time)\n",
    "var d = new Date(9, 12, 25);\n",
    "\n",
    "//从日期字符串创建一个日期对象\n",
    "var d = new Date(\"October 13, 2014 11:13:00\");\n",
    "\n",
    "//将日期转换为utc字符串\n",
    "var d = new Date();\n",
    "document.getElementById(\"demo\").innerHTML = d.toUTCString();\n",
    "\n",
    "//将日期转换为更易读的格式\n",
    "var d = new Date();\n",
    "document.getElementById(\"demo\").innerHTML = d.toDateString();\n",
    "\n",
    "//ISO 8601 语法 (YYYY-MM-DD) 也是首选的 JavaScript 日期格式：\n",
    "var d = new Date(\"2018-02-19\");\n",
    "\n",
    "//ISO 日期  写日期也可以添加时、分和秒 (YYYY-MM-DDTHH:MM:SS)\n",
    "var d = new Date(\"2018-02-19T12:00:00\");\n",
    "\n",
    "//日期操作使用库  day.js npm install dayjs\n",
    "// import dayjs from 'dayjs' \n",
    "\n",
    "\n",
    "// Day.js对象是不可变的，也就是说，以某种方式改变Day.js对象的所有API操作都将返回它的一个新实例。\n",
    "// 直接调用 dayjs() 将返回一个包含当前日期和时间的 Day.js 对象。\n",
    "\n",
    "var now = dayjs();\n",
    "\n",
    "//初始化日期时间\n",
    "dayjs().format('YYYY-MM-DD');\t\t    // 初始化日期\n",
    "dayjs().format('YYYY-MM-DD HH:mm:ss');  // 初始化日期时间\n",
    "//格式化日期时间\n",
    "dayjs(value).format('YYYY-MM-DD');\t\t\t// 初始化日期\n",
    "dayjs(value).format('YYYY-MM-DD HH:mm:ss'); // 初始化日期时间\n",
    "\n",
    "//日期时间的加减\n",
    "dayjs().add(7, 'day').format('YYYY-MM-DD');   // 2022-04-27 今天（2022-04-20）加上7天\n",
    "dayjs().add(1, 'month').format('YYYY-MM-DD');   // 2022-05-20 今天（2022-04-20）加上一月\n",
    "\n",
    "dayjs().subtract(2, 'year').format('YYYY-MM-DD');   // 2020-05-20 今天（2022-04-20）减去2年\n",
    "dayjs().subtract(2, 'hour').format('YYYY-MM-DD HH:mm:ss');   // 2022-04-20 14:03:39 今天现在（2022-04-20 16:03:39）减去2小时\n",
    "\n",
    "//获取某年某月的第一天或者最后一天\n",
    "dayjs().startOf('year').format('YYYY-MM-DD HH:mm:ss')   // 2022-01-01 00:00:00  => 第一天格式化出来的时分秒都是0\n",
    "dayjs().startOf('month').format('YYYY-MM-DD')   // 2022-04-01\n",
    "dayjs().endOf('year').format('YYYY-MM-DD HH:mm:ss')   // 2022-12-31 23:59:59  => 最后时间 格式化出来的时分秒是23:59:59\n",
    "dayjs().endOf('month').format('YYYY-MM-DD')   // 2022-04-30\n",
    "\n",
    "//获取星期几\n",
    "dayjs().day(); //返回0(星期日)到6(星期六)的数字\n",
    "dayjs().day(6).format('YYYY-MM-DD'); //获取最近周六的日期 => 2022-04-23\n",
    "dayjs().day(0).format('YYYY-MM-DD'); //获取最近周日的日期 => 2022-04-17\n",
    "\n",
    "dayjs('2019-01-25').valueOf()\n",
    "dayjs().valueOf()  //获取毫秒数\n",
    "\n",
    "//获取时间差\n",
    "dayjs('2019-01-25').diff('2018-06-05', 'month');         // 7\n",
    "dayjs('2019-01-25').diff(dayjs('2018-06-05'), 'month');  // 7\n",
    "\n",
    "\n",
    "// 获取时分秒\n",
    "console.log('-----获取年', dayjs().year());    // ==>> 2022\n",
    "console.log('-----获取月', dayjs().month());   // 0到11的数字 ==>> 3\n",
    "console.log('-----获取星期', dayjs().day());   // 0(星期日)到6(星期六)的数字 ==>> 3\n",
    "console.log('-----获取天', dayjs().date());    // 1到31的数字 ==>> 20\n",
    "console.log('-----获取小时', dayjs().hour());  // 0到23的数字 ==>> 16\n",
    "console.log('-----获取分钟', dayjs().minute());// 0到59的数字 ==>> 55\n",
    "console.log('-----获取秒', dayjs().second());  // 0到59的数字 ==>> 55\n",
    "console.log('-----获取毫秒', dayjs().millisecond());  // 0到999的数字 ==>> 333\n",
    "\n",
    "\n",
    "// 将毫秒转为时分秒\n",
    "// 下面毫秒数代表：2022-04-20 17:43:20\n",
    "const timestr = 1650447800731;   // 毫秒值必须是number类型，如果是string，结果可能和你想的不一样\n",
    "console.log('将毫秒转为年-月-日 时:分:秒', dayjs(timestr).format('YYYY-MM-DD HH:mm:ss'));\n",
    "console.log('获取年', dayjs(timestr).year()); // \n",
    "console.log('获取月', dayjs(timestr).month());\n",
    "console.log('获取天', dayjs(timestr).date());\n",
    "console.log('获取时', dayjs(timestr).hour());\n",
    "console.log('获取分', dayjs(timestr).minute());\n",
    "\n",
    "//判断一个日期是否是在另外一个日期之后\n",
    "\n",
    "// day.js 为 2022-04-20\n",
    "console.log('isAfter', dayjs().isAfter(dayjs('2011-01-01'))) \t\t\t \t// true\n",
    "console.log('isAfter', dayjs('2022-04-20').isAfter(dayjs('2022-04-21')))\t// false\n",
    "console.log('isAfter', dayjs('2022-04-20').isAfter(dayjs('2022-04-20')))\t// 相同也为false\n",
    "\n",
    "// day.js 为 2022-04-20\n",
    "console.log('isBefore', dayjs().isBefore(dayjs('2011-01-01')))             // false\n",
    "console.log('isBefore', dayjs('2022-04-20').isBefore(dayjs('2022-04-21'))) // true\n",
    "console.log('isBefore', dayjs('2022-04-20').isBefore(dayjs('2022-04-20'))) // 日期相同时也为false\n",
    "\n",
    "// day.js 为 2022-04-20\n",
    "console.log('isSame', dayjs().isSame(dayjs('2011-01-01')))  \t\t\t// false\n",
    "console.log('isSame', dayjs('2022-04-20').isSame(dayjs('2022-04-21')))\t// false\n",
    "console.log('isSame', dayjs('2022-04-20').isSame(dayjs('2022-04-20')))\t// true\n",
    "\n",
    "\n",
    "\n"
   ]
  }
 ],
 "metadata": {
  "language_info": {
   "name": "python"
  },
  "orig_nbformat": 4
 },
 "nbformat": 4,
 "nbformat_minor": 2
}
