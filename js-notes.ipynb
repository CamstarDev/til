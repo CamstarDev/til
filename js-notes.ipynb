{
 "cells": [
  {
   "cell_type": "markdown",
   "metadata": {},
   "source": [
    "## Js Notes\n",
    "\n",
    "#### var 的作用域\n",
    "\n",
    "var 的作用域比 let 大，let 声明的变量作用域不会超出块，使用 var 声明的是全局变量，属于 windows 对象\n",
    "通过 let 关键词定义的全局变量不属于 window 对象：\n",
    "允许在程序的任何位置使用 var 重新声明 JavaScript 变量,在相同的作用域，或在相同的块中，通过 let 重新声明一个 var 变量是不允许的：\n",
    "在相同的作用域，或在相同的块中，通过 let 重新声明一个 let 变量是不允许的：\n",
    "在相同的作用域，或在相同的块中，通过 var 重新声明一个 let 变量是不允许的：\n"
   ]
  },
  {
   "cell_type": "code",
   "execution_count": 5,
   "metadata": {
    "dotnet_interactive": {
     "language": "javascript"
    },
    "polyglot_notebook": {
     "kernelName": "javascript"
    },
    "vscode": {
     "languageId": "polyglot-notebook"
    }
   },
   "outputs": [
    {
     "data": {
      "text/plain": [
       "10"
      ]
     },
     "metadata": {},
     "output_type": "display_data"
    },
    {
     "data": {
      "text/plain": [
       "null"
      ]
     },
     "metadata": {},
     "output_type": "display_data"
    },
    {
     "ename": "Error",
     "evalue": "b is not defined",
     "output_type": "error",
     "traceback": [
      "b is not defined"
     ]
    }
   ],
   "source": [
    "{\n",
    "    var a  = 10;\n",
    "}\n",
    "\n",
    "var age = 10;\n",
    "console.log(a);\n",
    "console.log(window.age); //浏览器运行\n",
    "\n",
    "{\n",
    "    let b = 10;\n",
    "}\n",
    "console.log(b);"
   ]
  },
  {
   "cell_type": "markdown",
   "metadata": {},
   "source": [
    "在不同的作用域或块中，通过 let 重新声明变量是允许的; 提升通过 var 声明的变量会提升到顶端,可以在声明之前就使用变量，使用 let 声明的变量不行\n"
   ]
  },
  {
   "cell_type": "code",
   "execution_count": 10,
   "metadata": {
    "dotnet_interactive": {
     "language": "javascript"
    },
    "polyglot_notebook": {
     "kernelName": "javascript"
    },
    "vscode": {
     "languageId": "polyglot-notebook"
    }
   },
   "outputs": [],
   "source": [
    "a + 1; //允许\n",
    "var a;\n",
    "// x + 1;  //不允许\n",
    "let x = 6;       // 允许\n",
    "\n",
    "{\n",
    "  let x = 7;   // 允许\n",
    "}\n",
    "\n",
    "{\n",
    "  let x = 8;   // 允许\n",
    "}"
   ]
  },
  {
   "cell_type": "markdown",
   "metadata": {},
   "source": [
    "通过 const 定义的变量与 let 变量类似，但不能重新赋值;\n",
    "在块作用域内使用 const 声明的变量与 let 变量相似;\n",
    "JavaScript const 变量必须在声明时赋值;\n",
    "关键字 const 有一定的误导性。它没有定义常量值。它定义了对值的常量引用;因此，我们不能更改常量原始值，但我们可以更改常量对象的属性;"
   ]
  },
  {
   "cell_type": "code",
   "execution_count": 11,
   "metadata": {
    "dotnet_interactive": {
     "language": "javascript"
    },
    "polyglot_notebook": {
     "kernelName": "javascript"
    },
    "vscode": {
     "languageId": "polyglot-notebook"
    }
   },
   "outputs": [
    {
     "ename": "Error",
     "evalue": "Assignment to constant variable.",
     "output_type": "error",
     "traceback": [
      "Assignment to constant variable."
     ]
    }
   ],
   "source": [
    "const PI = 3.141592653589793;\n",
    "PI = 3.14;      // 会出错\n",
    "PI = PI + 10;   // 也会出错\n",
    "//\n",
    "var x = 10;\n",
    "// 此处，x 为 10\n",
    "{ \n",
    "  const x = 6;\n",
    "  // 此处，x 为 6\n",
    "}\n",
    "// 此处，x 为 10"
   ]
  },
  {
   "cell_type": "markdown",
   "metadata": {},
   "source": [
    "可以更改常量对象的属性：\n"
   ]
  },
  {
   "cell_type": "code",
   "execution_count": 12,
   "metadata": {
    "dotnet_interactive": {
     "language": "javascript"
    },
    "polyglot_notebook": {
     "kernelName": "javascript"
    },
    "vscode": {
     "languageId": "polyglot-notebook"
    }
   },
   "outputs": [],
   "source": [
    "//相当于常量指针,指向无法改变,但指向的内容可以改变\n",
    "\n",
    "// 可以创建 const 对象：\n",
    "const car = {type:\"porsche\", model:\"911\", color:\"Black\"};\n",
    "\n",
    "// 您可以更改属性：\n",
    "car.color = \"White\";\n",
    "\n",
    "// 您可以添加属性：\n",
    "car.owner = \"Bill\";\n",
    "\n",
    "// 无法对其进行重新指向\n",
    "const car = {type:\"porsche\", model:\"911\", color:\"Black\"};\n",
    "car = {type:\"Volvo\", model:\"XC60\", color:\"White\"};    // ERROR"
   ]
  },
  {
   "cell_type": "markdown",
   "metadata": {},
   "source": [
    "对象\n"
   ]
  },
  {
   "cell_type": "code",
   "execution_count": 16,
   "metadata": {
    "dotnet_interactive": {
     "language": "javascript"
    },
    "polyglot_notebook": {
     "kernelName": "javascript"
    },
    "vscode": {
     "languageId": "polyglot-notebook"
    }
   },
   "outputs": [
    {
     "data": {
      "text/plain": [
       "Bill Gates"
      ]
     },
     "metadata": {},
     "output_type": "display_data"
    }
   ],
   "source": [
    "var person = {\n",
    "    firstName: \"Bill\",\n",
    "    lastName : \"Gates\",\n",
    "    id       : 678,\n",
    "    fullName : function() {\n",
    "      return this.firstName + \" \" + this.lastName;\n",
    "    }\n",
    "  };\n",
    "  //访问对象属性\n",
    "  person[\"firstName\"];\n",
    "  console.log(person.fullName());"
   ]
  },
  {
   "cell_type": "markdown",
   "metadata": {},
   "source": [
    "=== 运算符需要类型和值同时相等"
   ]
  },
  {
   "cell_type": "code",
   "execution_count": 18,
   "metadata": {
    "dotnet_interactive": {
     "language": "javascript"
    },
    "polyglot_notebook": {
     "kernelName": "javascript"
    },
    "vscode": {
     "languageId": "polyglot-notebook"
    }
   },
   "outputs": [],
   "source": [
    "var x = \"Bill\";             \n",
    "var y = new String(\"Bill\");\n",
    "x === y\n",
    "// (x === y) 为 false，因为 x 和 y 的类型不同（字符串与对象）\n"
   ]
  },
  {
   "cell_type": "markdown",
   "metadata": {},
   "source": [
    "String 操作方法"
   ]
  },
  {
   "cell_type": "code",
   "execution_count": 22,
   "metadata": {
    "dotnet_interactive": {
     "language": "javascript"
    },
    "polyglot_notebook": {
     "kernelName": "javascript"
    },
    "vscode": {
     "languageId": "polyglot-notebook"
    }
   },
   "outputs": [],
   "source": [
    "var str = \"The full name of China is the People's Republic of China.\";\n",
    "var pos = str.lastIndexOf(\"China\", 50);\n",
    "var pos1 = str.indexOf(\"China\",10);\n",
    "var pos = str.search(\"locate\");\n",
    "//search() 方法无法设置第二个开始位置参数。\n",
    "//indexOf() 方法无法设置更强大的搜索值（正则表达式）。\n",
    "/*\n",
    "\n",
    "有三种提取部分字符串的方法：\n",
    "\n",
    "slice(start, end)\n",
    "substring(start, end)\n",
    "substr(start, length)\n",
    "*/\n",
    "\n",
    "\n",
    "var res = str.slice(7,13);\n",
    "\n",
    "//如果某个参数为负，则从字符串的结尾开始计数。 前一个索引要小于后一个 \n",
    "var res = str.slice(-7,-1);\n",
    "var res = str.slice(7); //[7,..]\n",
    "var res = str.slice(-13); // [^13,..]\n",
    "\n",
    "//substring() 类似于 slice()。不同之处在于 substring() 无法接受负的索引。\n",
    "var res = str.substring(7,13);\n",
    "\n",
    "//substr() 类似于 slice()。 第二个参数规定截取的长度,而不是结束位置\n",
    "var res = str.substr(0,10); //[0,10]\n",
    "\n",
    "//如果首个参数为负，则从字符串的结尾计算位置。\n",
    "var res = str.substr(-1); //[...,^1]\n",
    "\n",
    "\n",
    "//replace() 方法用另一个值替换在字符串中指定的值\n",
    "str = \"Please visit Microsoft!\";\n",
    "var n = str.replace(\"Microsoft\", \"W3School\");\n",
    "// replace() 方法不会改变调用它的字符串。它返回的是新字符串。默认地，replace() 只替换首个匹配： 默认地，replace() 对大小写敏感\n",
    "//如需执行大小写不敏感的替换，请使用正则表达式 /i（\n",
    "var n = str.replace(/MICROSOFT/i, \"W3School\");\n",
    "\n",
    "//如需替换所有匹配，请使用正则表达式的 g 标志（用于全局搜索）：\n",
    "var n = str.replace(/Microsoft/g, \"W3School\");\n",
    "\n",
    "var text2 = text1.toUpperCase();\n",
    "var text2 = text1.toLowerCase();\n",
    "\n",
    "//连接字符串\n",
    "var text1 = \"Hello\";\n",
    "var text2 = \"World\";\n",
    "text3 = text1.concat(\" \",text2);\n",
    "//去除空格\n",
    "var str = \"       Hello World!        \";\n",
    "alert(str.trim());"
   ]
  },
  {
   "cell_type": "code",
   "execution_count": null,
   "metadata": {
    "dotnet_interactive": {
     "language": "javascript"
    },
    "polyglot_notebook": {
     "kernelName": "javascript"
    },
    "vscode": {
     "languageId": "polyglot-notebook"
    }
   },
   "outputs": [],
   "source": []
  }
 ],
 "metadata": {
  "language_info": {
   "name": "python"
  },
  "orig_nbformat": 4
 },
 "nbformat": 4,
 "nbformat_minor": 2
}
