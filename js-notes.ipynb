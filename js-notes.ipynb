{
 "cells": [
  {
   "cell_type": "markdown",
   "metadata": {},
   "source": [
    "## Js Notes\n",
    "\n",
    "#### var 的作用域\n",
    "\n",
    "var 的作用域比 let 大，let 声明的变量作用域不会超出块，使用 var 声明的是全局变量，属于 windows 对象\n",
    "通过 let 关键词定义的全局变量不属于 window 对象：\n",
    "允许在程序的任何位置使用 var 重新声明 JavaScript 变量,在相同的作用域，或在相同的块中，通过 let 重新声明一个 var 变量是不允许的：\n",
    "在相同的作用域，或在相同的块中，通过 let 重新声明一个 let 变量是不允许的：\n",
    "在相同的作用域，或在相同的块中，通过 var 重新声明一个 let 变量是不允许的：\n"
   ]
  },
  {
   "cell_type": "code",
   "execution_count": 5,
   "metadata": {
    "dotnet_interactive": {
     "language": "javascript"
    },
    "polyglot_notebook": {
     "kernelName": "javascript"
    },
    "vscode": {
     "languageId": "polyglot-notebook"
    }
   },
   "outputs": [
    {
     "data": {
      "text/plain": [
       "10"
      ]
     },
     "metadata": {},
     "output_type": "display_data"
    },
    {
     "data": {
      "text/plain": [
       "null"
      ]
     },
     "metadata": {},
     "output_type": "display_data"
    },
    {
     "ename": "Error",
     "evalue": "b is not defined",
     "output_type": "error",
     "traceback": [
      "b is not defined"
     ]
    }
   ],
   "source": [
    "{\n",
    "    var a  = 10;\n",
    "}\n",
    "\n",
    "var age = 10;\n",
    "console.log(a);\n",
    "console.log(window.age); //浏览器运行\n",
    "\n",
    "{\n",
    "    let b = 10;\n",
    "}\n",
    "console.log(b);"
   ]
  },
  {
   "cell_type": "markdown",
   "metadata": {},
   "source": [
    "在不同的作用域或块中，通过 let 重新声明变量是允许的; 提升通过 var 声明的变量会提升到顶端,可以在声明之前就使用变量，使用 let 声明的变量不行\n"
   ]
  },
  {
   "cell_type": "code",
   "execution_count": 10,
   "metadata": {
    "dotnet_interactive": {
     "language": "javascript"
    },
    "polyglot_notebook": {
     "kernelName": "javascript"
    },
    "vscode": {
     "languageId": "polyglot-notebook"
    }
   },
   "outputs": [],
   "source": [
    "a + 1; //允许\n",
    "var a;\n",
    "// x + 1;  //不允许\n",
    "let x = 6;       // 允许\n",
    "\n",
    "{\n",
    "  let x = 7;   // 允许\n",
    "}\n",
    "\n",
    "{\n",
    "  let x = 8;   // 允许\n",
    "}"
   ]
  },
  {
   "cell_type": "markdown",
   "metadata": {},
   "source": [
    "通过 const 定义的变量与 let 变量类似，但不能重新赋值;\n",
    "在块作用域内使用 const 声明的变量与 let 变量相似;\n",
    "JavaScript const 变量必须在声明时赋值;\n",
    "关键字 const 有一定的误导性。它没有定义常量值。它定义了对值的常量引用;因此，我们不能更改常量原始值，但我们可以更改常量对象的属性;"
   ]
  },
  {
   "cell_type": "code",
   "execution_count": 11,
   "metadata": {
    "dotnet_interactive": {
     "language": "javascript"
    },
    "polyglot_notebook": {
     "kernelName": "javascript"
    },
    "vscode": {
     "languageId": "polyglot-notebook"
    }
   },
   "outputs": [
    {
     "ename": "Error",
     "evalue": "Assignment to constant variable.",
     "output_type": "error",
     "traceback": [
      "Assignment to constant variable."
     ]
    }
   ],
   "source": [
    "const PI = 3.141592653589793;\n",
    "PI = 3.14;      // 会出错\n",
    "PI = PI + 10;   // 也会出错\n",
    "//\n",
    "var x = 10;\n",
    "// 此处，x 为 10\n",
    "{ \n",
    "  const x = 6;\n",
    "  // 此处，x 为 6\n",
    "}\n",
    "// 此处，x 为 10"
   ]
  },
  {
   "cell_type": "markdown",
   "metadata": {},
   "source": [
    "可以更改常量对象的属性：\n"
   ]
  },
  {
   "cell_type": "code",
   "execution_count": 12,
   "metadata": {
    "dotnet_interactive": {
     "language": "javascript"
    },
    "polyglot_notebook": {
     "kernelName": "javascript"
    },
    "vscode": {
     "languageId": "polyglot-notebook"
    }
   },
   "outputs": [],
   "source": [
    "//相当于常量指针,指向无法改变,但指向的内容可以改变\n",
    "\n",
    "// 可以创建 const 对象：\n",
    "const car = {type:\"porsche\", model:\"911\", color:\"Black\"};\n",
    "\n",
    "// 您可以更改属性：\n",
    "car.color = \"White\";\n",
    "\n",
    "// 您可以添加属性：\n",
    "car.owner = \"Bill\";\n",
    "\n",
    "// 无法对其进行重新指向\n",
    "const car = {type:\"porsche\", model:\"911\", color:\"Black\"};\n",
    "car = {type:\"Volvo\", model:\"XC60\", color:\"White\"};    // ERROR"
   ]
  },
  {
   "cell_type": "markdown",
   "metadata": {},
   "source": [
    "对象\n"
   ]
  },
  {
   "cell_type": "code",
   "execution_count": 16,
   "metadata": {
    "dotnet_interactive": {
     "language": "javascript"
    },
    "polyglot_notebook": {
     "kernelName": "javascript"
    },
    "vscode": {
     "languageId": "polyglot-notebook"
    }
   },
   "outputs": [
    {
     "data": {
      "text/plain": [
       "Bill Gates"
      ]
     },
     "metadata": {},
     "output_type": "display_data"
    }
   ],
   "source": [
    "var person = {\n",
    "    firstName: \"Bill\",\n",
    "    lastName : \"Gates\",\n",
    "    id       : 678,\n",
    "    fullName : function() {\n",
    "      return this.firstName + \" \" + this.lastName;\n",
    "    }\n",
    "  };\n",
    "  //访问对象属性\n",
    "  person[\"firstName\"];\n",
    "  console.log(person.fullName());"
   ]
  },
  {
   "cell_type": "markdown",
   "metadata": {},
   "source": [
    "=== 运算符需要类型和值同时相等"
   ]
  },
  {
   "cell_type": "code",
   "execution_count": 18,
   "metadata": {
    "dotnet_interactive": {
     "language": "javascript"
    },
    "polyglot_notebook": {
     "kernelName": "javascript"
    },
    "vscode": {
     "languageId": "polyglot-notebook"
    }
   },
   "outputs": [],
   "source": [
    "var x = \"Bill\";             \n",
    "var y = new String(\"Bill\");\n",
    "x === y\n",
    "// (x === y) 为 false，因为 x 和 y 的类型不同（字符串与对象）\n"
   ]
  },
  {
   "cell_type": "markdown",
   "metadata": {},
   "source": [
    "String 操作方法"
   ]
  },
  {
   "cell_type": "code",
   "execution_count": 1,
   "metadata": {
    "dotnet_interactive": {
     "language": "javascript"
    },
    "polyglot_notebook": {
     "kernelName": "javascript"
    },
    "vscode": {
     "languageId": "polyglot-notebook"
    }
   },
   "outputs": [
    {
     "ename": "Error",
     "evalue": "Unexpected token ')'",
     "output_type": "error",
     "traceback": [
      "Unexpected token ')'"
     ]
    }
   ],
   "source": [
    "var str = \"The full name of China is the People's Republic of China.\";\n",
    "var pos = str.lastIndexOf(\"China\", 50);\n",
    "var pos1 = str.indexOf(\"China\",10);\n",
    "var pos = str.search(\"locate\");\n",
    "//search() 方法无法设置第二个开始位置参数。\n",
    "//indexOf() 方法无法设置更强大的搜索值（正则表达式）。\n",
    "/*\n",
    "\n",
    "有三种提取部分字符串的方法：\n",
    "\n",
    "slice(start, end)\n",
    "substring(start, end)\n",
    "substr(start, length)\n",
    "*/\n",
    "\n",
    "\n",
    "var res = str.slice(7,13);\n",
    "\n",
    "//如果某个参数为负，则从字符串的结尾开始计数。 前一个索引要小于后一个 \n",
    "var res = str.slice(-7,-1);\n",
    "var res = str.slice(7); //[7,..]\n",
    "var res = str.slice(-13); // [^13,..]\n",
    "\n",
    "//substring() 类似于 slice()。不同之处在于 substring() 无法接受负的索引。\n",
    "var res = str.substring(7,13);\n",
    "\n",
    "//substr() 类似于 slice()。 第二个参数规定截取的长度,而不是结束位置\n",
    "var res = str.substr(0,10); //[0,10]\n",
    "\n",
    "//如果首个参数为负，则从字符串的结尾计算位置。\n",
    "var res = str.substr(-1); //[...,^1]\n",
    "\n",
    "\n",
    "//replace() 方法用另一个值替换在字符串中指定的值\n",
    "str = \"Please visit Microsoft!\";\n",
    "var n = str.replace(\"Microsoft\", \"W3School\");\n",
    "// replace() 方法不会改变调用它的字符串。它返回的是新字符串。默认地，replace() 只替换首个匹配： 默认地，replace() 对大小写敏感\n",
    "//如需执行大小写不敏感的替换，请使用正则表达式 /i（\n",
    "var n = str.replace(/MICROSOFT/i, \"W3School\");\n",
    "\n",
    "//如需替换所有匹配，请使用正则表达式的 g 标志（用于全局搜索）：\n",
    "var n = str.replace(/Microsoft/g, \"W3School\");\n",
    "\n",
    "var text2 = text1.toUpperCase();\n",
    "var text2 = text1.toLowerCase();\n",
    "\n",
    "//连接字符串\n",
    "var text1 = \"Hello\";\n",
    "var text2 = \"World\";\n",
    "text3 = text1.concat(\" \",text2);\n",
    "//去除空格\n",
    "var str = \"       Hello World!        \";\n",
    "alert(str.trim());\n",
    "\n",
    "//替换\n",
    "var str = \"       Hello World!        \";\n",
    "alert(str.replace(/^[\\s\\uFEFF\\xA0]+|[\\s\\uFEFF\\xA0]+$/g, ''));\n",
    "\n",
    "if (!String.prototype.trim) {\n",
    "    String.prototype.trim = function () {\n",
    "      return this.replace(/^[\\s\\uFEFF\\xA0]+|[\\s\\uFEFF\\xA0]+$/g, '');\n",
    "  };\n",
    "  var str = \"       Hello World!        \";\n",
    "  alert(str.trim());\n",
    "\n",
    "  // 返回指定下标的字符串\n",
    "var str = \"HELLO WORLD\";\n",
    "str.charAt(0);            // 返回 H\n",
    "var a = str.charCodeAt(0);  //unicode 字符\n",
    "console.log(a);\n",
    "//将字符串转化为数组\n",
    "var txt = \"a,b,c,d,e\";   // 字符串\n",
    "txt.split(\",\");          // 用逗号分隔\n",
    "txt.split(\" \");          // 用空格分隔\n",
    "txt.split(\"|\");          // 用竖线分隔\n",
    "\n",
    "/*\n",
    "\n",
    "用于搜索字符串的 JavaScript 方法：\n",
    "\n",
    "String.indexOf()\n",
    "String.lastIndexOf()\n",
    "String.startsWith()\n",
    "String.endsWith()\n",
    "如果未找到文本，indexOf() 和 lastIndexOf() 都返回 -1：\n",
    "lastIndexOf() 方法向后搜索（从末尾到开头），意思是：如果第二个参数是 15，则从位置 15 开始搜索，一直搜索到字符串的开头。\n",
    "\n",
    "indexOf() 和 search() 这两个方法，相等吗？\n",
    "\n",
    "它们接受相同的参数，并返回相同的值？\n",
    "\n",
    "这两种方法并不相等。差别如下：\n",
    "\n",
    "search() 方法不能接受第二个起始位置参数。\n",
    "indexOf() 方法不能采用强大的搜索值（正则表达式）。\n",
    "\n",
    "indexOf() 和 search() 这两个方法，相等吗？\n",
    "\n",
    "它们接受相同的参数，并返回相同的值？\n",
    "\n",
    "这两种方法并不相等。差别如下：\n",
    "\n",
    "search() 方法不能接受第二个起始位置参数。\n",
    "indexOf() 方法不能采用强大的搜索值（正则表达式）。\n",
    "*/\n",
    "\n",
    "\n"
   ]
  },
  {
   "cell_type": "code",
   "execution_count": null,
   "metadata": {
    "dotnet_interactive": {
     "language": "javascript"
    },
    "polyglot_notebook": {
     "kernelName": "javascript"
    },
    "vscode": {
     "languageId": "polyglot-notebook"
    }
   },
   "outputs": [],
   "source": [
    "let text = \"The rain in SPAIN stays mainly in the plain\";\n",
    "text.match(/ain/g)    // 返回数组 [ain,ain,ain]\n",
    "let text = \"The rain in SPAIN stays mainly in the plain\";\n",
    "text.match(/ain/gi)   // 返回数组 [ain,AIN,ain,ain]\n",
    "\n",
    "//包含指定值返回true\n",
    "let text = \"Hello world, welcome to the universe.\";\n",
    "text.includes(\"world\",10)    // 返回 true\n",
    "\n",
    "//字符串模板\n",
    "let firstName = \"Bill\";\n",
    "let lastName = \"Gates\";\n",
    "\n",
    "let text = `Welcome ${firstName}, ${lastName}!`;\n",
    "\n",
    "let header = \"Templates Literals\";\n",
    "let tags = [\"template literals\", \"javascript\", \"es6\"];\n",
    "\n",
    "let html = `<h2>${header}</h2><ul>`;\n",
    "for (const x of tags) {\n",
    "  html += `<li>${x}</li>`;\n",
    "}\n",
    "\n",
    "html += `</ul>`;"
   ]
  },
  {
   "cell_type": "markdown",
   "metadata": {},
   "source": [
    "使用属性访问有点不太靠谱： str[0]\n",
    "\n",
    "不适用 Internet Explorer 7 或更早的版本\n",
    "它让字符串看起来像是数组（其实并不是）\n",
    "如果找不到字符，[ ] 返回 undefined，而 charAt() 返回空字符串。\n",
    "它是只读的。str[0] = \"A\" 不会产生错误（但也不会工作！）"
   ]
  },
  {
   "cell_type": "code",
   "execution_count": 4,
   "metadata": {
    "dotnet_interactive": {
     "language": "javascript"
    },
    "polyglot_notebook": {
     "kernelName": "javascript"
    },
    "vscode": {
     "languageId": "polyglot-notebook"
    }
   },
   "outputs": [
    {
     "data": {
      "text/plain": [
       "72"
      ]
     },
     "metadata": {},
     "output_type": "display_data"
    }
   ],
   "source": [
    "var str = \"HELLO WORLD\";\n",
    "var a = str.charCodeAt(0);  //unicode 字符\n",
    "console.log(a);"
   ]
  },
  {
   "cell_type": "markdown",
   "metadata": {},
   "source": [
    "#### 数字\n"
   ]
  },
  {
   "cell_type": "code",
   "execution_count": 13,
   "metadata": {
    "dotnet_interactive": {
     "language": "javascript"
    },
    "polyglot_notebook": {
     "kernelName": "javascript"
    },
    "vscode": {
     "languageId": "polyglot-notebook"
    }
   },
   "outputs": [],
   "source": [
    "\n",
    "var x =  2 / 0;          // x 将是 Infinity\n",
    "var y = -2 / 0;          // y 将是 -Infinity\n"
   ]
  },
  {
   "cell_type": "code",
   "execution_count": 11,
   "metadata": {
    "dotnet_interactive": {
     "language": "javascript"
    },
    "polyglot_notebook": {
     "kernelName": "javascript"
    },
    "vscode": {
     "languageId": "polyglot-notebook"
    }
   },
   "outputs": [
    {
     "ename": "Error",
     "evalue": "x is not defined",
     "output_type": "error",
     "traceback": [
      "x is not defined"
     ]
    }
   ],
   "source": [
    "x"
   ]
  },
  {
   "cell_type": "markdown",
   "metadata": {},
   "source": [
    "JavaScript 整数精度\n",
    "JavaScript 整数最多只能精确到 15 位, 如需创建 BigInt，可以在整数末尾添加 n，或调用 BigInt() 函数：\n",
    "\n",
    "这些数字方法可用于所有 JavaScript 数字：\n",
    "\n",
    "方法\t           描述\n",
    "toString()\t      将数字作为字符串返回。\n",
    "toExponential()\t  返回以指数表示法书写的数字。\n",
    "toFixed()\t      返回带小数位数的数字。\n",
    "toPrecision()\t  返回指定长度的数字。\n",
    "ValueOf()\t      以数字形式返回数字。"
   ]
  },
  {
   "cell_type": "code",
   "execution_count": 15,
   "metadata": {
    "dotnet_interactive": {
     "language": "javascript"
    },
    "polyglot_notebook": {
     "kernelName": "javascript"
    },
    "vscode": {
     "languageId": "polyglot-notebook"
    }
   },
   "outputs": [],
   "source": [
    "let x = 9.656;\n",
    "x.toExponential(2);\n",
    "x.toExponential(4);\n",
    "x.toExponential(6);\n",
    "\n",
    "//带有指定位数的小数部分 会进行四舍五入\n",
    "x.toFixed(0);\n",
    "x.toFixed(2);\n",
    "x.toFixed(4);\n",
    "x.toFixed(6);\n",
    "\n",
    "//返回一个字符串 包含指定长度的数字\n",
    "x.toPrecision();\n",
    "x.toPrecision(2);\n",
    "x.toPrecision(4);\n",
    "x.toPrecision(6);\n",
    "\n",
    "//以数字形式返回数字\n",
    "let x = 123;\n",
    "x.valueOf();\n",
    "(123).valueOf();\n",
    "(100 + 23).valueOf();\n",
    "\n",
    "//转化为数字形式 无法转化则返回NAN\n",
    "let x = 123;\n",
    "x.valueOf();\n",
    "(123).valueOf();\n",
    "(100 + 23).valueOf();\n",
    "\n",
    "//解析字符串并返回整数 允许有空格 仅仅返回第一个数字\n",
    "parseInt(\"-10\");\n",
    "parseInt(\"-10.33\");\n",
    "parseInt(\"10\");\n",
    "parseInt(\"10.33\");\n",
    "parseInt(\"10 20 30\");\n",
    "parseInt(\"10 years\");\n",
    "parseInt(\"years 10\");\n",
    "\n",
    "parseFloat(\"10\");\n",
    "parseFloat(\"10.33\");\n",
    "parseFloat(\"10 20 30\");\n",
    "parseFloat(\"10 years\");\n",
    "parseFloat(\"years 10\");"
   ]
  },
  {
   "cell_type": "code",
   "execution_count": 28,
   "metadata": {
    "dotnet_interactive": {
     "language": "javascript"
    },
    "polyglot_notebook": {
     "kernelName": "javascript"
    },
    "vscode": {
     "languageId": "polyglot-notebook"
    }
   },
   "outputs": [
    {
     "data": {
      "text/plain": [
       "sasa,bmw,audi"
      ]
     },
     "metadata": {},
     "output_type": "display_data"
    },
    {
     "data": {
      "text/plain": [
       "function Array() { [native code] }"
      ]
     },
     "metadata": {},
     "output_type": "display_data"
    },
    {
     "data": {
      "text/plain": [
       "function Object() { [native code] }"
      ]
     },
     "metadata": {},
     "output_type": "display_data"
    }
   ],
   "source": [
    "//数组\n",
    "var cars = ['sasa','bmw','audi'];\n",
    "console.log(cars+'')\n",
    "\n",
    "//数组属性和方法\n",
    "var x = cars.length;   // length 属性返回元素的数量\n",
    "var y = cars.sort();   // sort() 方法对数组进行排序\n",
    "\n",
    "var fruits, text;\n",
    "fruits = [\"Banana\", \"Orange\", \"Apple\", \"Mango\"];\n",
    "\n",
    "text = \"<ul>\";\n",
    "fruits.forEach(myFunction);\n",
    "text += \"</ul>\";\n",
    "\n",
    "//function closure\n",
    "function myFunction(value) {\n",
    "  text += \"<li>\" + value + \"</li>\";\n",
    "} \n",
    "//向数组添加元素的最佳方法 push() 方法返回新数组的长度： \n",
    "var fruits = [\"Banana\", \"Orange\", \"Apple\", \"Mango\"];\n",
    "var newLength = fruits.push(\"Lemon\");                // 向 fruits 添加一个新元素 (Lemon)\n",
    "\n",
    "//向超过数组最高索引的位置添加元素会创造一个hole\n",
    "var fruits = [\"Banana\", \"Orange\", \"Apple\", \"Mango\"];\n",
    "fruits[6] = \"Lemon\";                 // 向 fruits 添加一个新元素 (Lemon)\n",
    "console.log(fruits.constructor) ;\n",
    "var person = {}\n",
    "console.log(person.constructor) ;\n"
   ]
  },
  {
   "cell_type": "code",
   "execution_count": 6,
   "metadata": {
    "dotnet_interactive": {
     "language": "javascript"
    },
    "polyglot_notebook": {
     "kernelName": "javascript"
    },
    "vscode": {
     "languageId": "polyglot-notebook"
    }
   },
   "outputs": [],
   "source": [
    "//在 JavaScript 中，数组只能使用数字索引。假如您使用命名索引，JavaScript 会把数组重定义为标准对象。之后，所有数组的方法和属性将产生非正确结果。\n",
    "var person = [];\n",
    "person[\"firstName\"] = \"Bill\";  //可以这样访问对象属性 \n",
    "person[\"lastName\"] = \"Gates\";\n",
    "person[\"age\"] = 62;\n",
    "var x = person.length;         // person.length 将返回 0\n",
    "var y = person[0];     \n",
    "\n",
    "//在 JavaScript 中，数组使用数字索引。在 JavaScript 中，对象使用命名索引。\n",
    "\n",
    "//ECMAScript 5 定义了新方法 Array.isArray()： 判断一个对象是否是一个数组\n",
    "Array.isArray();\n",
    "//或者自定义函数\n",
    "function isArray(x) {\n",
    "    return x.constructor.toString().indexOf(\"Array\") > -1;\n",
    "}\n",
    "\n",
    "var fruits = [\"Banana\", \"Orange\", \"Apple\", \"Mango\"];\n",
    "// document.getElementById(\"demo\").innerHTML = fruits.toString(); \n",
    "//Banana,Orange,Apple,Mango\n",
    "var fruits = [\"Banana\", \"Orange\", \"Apple\", \"Mango\"];\n",
    "var x = fruits.pop();              // 从 fruits 删除最后一个元素（\"Mango\"）\n",
    "\n",
    "//shift() 方法会删除首个数组元素，并把所有其他元素“位移”到更低的索引。\n",
    "var fruits = [\"Banana\", \"Orange\", \"Apple\", \"Mango\"];\n",
    "var x = fruits.shift();     \n",
    "\n",
    "//unshift() 方法（在开头）向数组添加新元素，并“反向位移”旧元素：\n",
    "var fruits = [\"Banana\", \"Orange\", \"Apple\", \"Mango\"];\n",
    "fruits.unshift(\"Lemon\");    // 向 fruits 添加新元素 \"Lemon\"\n",
    "\n",
    "//向数组添加新项 第一个参数（2）定义了应添加新元素的位置（拼接）。第二个参数（0）定义应删除多少元素。其余参数（“Lemon”，“Kiwi”）定义要添加的新元素。\n",
    "var fruits = [\"Banana\", \"Orange\", \"Apple\", \"Mango\"];\n",
    "fruits.splice(2, 0, \"Lemon\", \"Kiwi\");    //[Banana,Orange,Lemon,Kiwi,Apple,Mango]\n",
    "\n",
    "//使用splice删除元素\n",
    "var fruits = [\"Banana\", \"Orange\", \"Apple\", \"Mango\"];\n",
    "fruits.splice(0, 1);       //shift()\n",
    "\n",
    "//合并连接数组\n",
    "var myGirls = [\"Cecilie\", \"Lone\"];\n",
    "var myBoys = [\"Emil\", \"Tobias\", \"Linus\"];\n",
    "var myChildren = myGirls.concat(myBoys);   // 连接 myGirls 和 myBoys\n",
    "var myChildren = myGirls + myBoys;\n",
    "\n",
    "var arr1 = [\"Cecilie\", \"Lone\"];\n",
    "var arr2 = [\"Emil\", \"Tobias\", \"Linus\"];\n",
    "var arr3 = [\"Robin\", \"Morgan\"];\n",
    "var myChildren = arr1.concat(arr2, arr3);   // 将arr1、arr2 与 arr3 连接在一起\n",
    "\n",
    "//裁剪数组 slice() 方法创建新数组。它不会从源数组中删除任何元素。\n",
    "var fruits = [\"Banana\", \"Orange\", \"Lemon\", \"Apple\", \"Mango\"];\n",
    "var citrus = fruits.slice(1);   //[Orange,Lemon,Apple,Mango]\n",
    "\n",
    "//slice() 可接受两个参数，比如 (1, 3)。 该方法会从开始参数选取元素，直到结束参数（不包括）为止。\n",
    "var fruits = [\"Banana\", \"Orange\", \"Lemon\", \"Apple\", \"Mango\"]; \n",
    "var citrus = fruits.slice(1, 3);  //fruits[1,3]\n",
    "\n",
    "//sort() 方法以字母顺序对数组进行排序：\n",
    "\n",
    "var fruits = [\"Banana\", \"Orange\", \"Apple\", \"Mango\"];\n",
    "fruits.sort();            // 对 fruits 中的元素进行排序\n",
    "\n",
    "//反转数组\n",
    "var fruits = [\"Banana\", \"Orange\", \"Apple\", \"Mango\"];\n",
    "fruits.sort();            // 对 fruits 中的元素进行排序\n",
    "fruits.reverse();         // 反转元素顺序\n",
    "//如果数字按照字符串来排序，则 \"25\" 大于 \"100\"，因为 \"2\" 大于 \"1\"\n",
    "var points = [40, 100, 1, 5, 25, 10];\n",
    "points.sort(function(a, b){return a - b}); \n",
    "\n",
    "//比较函数的目的是定义另一种排序顺序。比较函数应该返回一个负，零或正值，这取决于参数：\n",
    "var a = function(a, b){return a-b}\n",
    "/*\n",
    "当比较 40 和 100 时，sort() 方法会调用比较函数 function(40,100)。\n",
    "\n",
    "该函数计算 40-100，然后返回 -60（负值）。\n",
    "\n",
    "排序函数将把 40 排序为比 100 更低的值。 \n",
    "*/\n",
    "\n",
    "//以随机顺序对数组进行排序\n",
    "var points = [40, 100, 1, 5, 25, 10];\n",
    "points.sort(function(a, b){return 0.5 - Math.random()}); \n",
    "\n",
    "\n",
    "//查找最大值\n",
    "var points = [40, 100, 1, 5, 25, 10];\n",
    "points.sort(function(a, b){return a - b});\n",
    "\n",
    "// 现在 points[0] 包含最低值\n",
    "// 而 points[points.length-1] 包含最高值\n",
    "\n",
    "function myArrayMax(arr) {\n",
    "    return Math.max.apply(null, arr);\n",
    "}\n",
    "\n",
    "Math.max.apply([1,2,3]); \n",
    "Math.max(1,2,3);\n",
    "\n",
    "//排序对象数组\n",
    "var cars = [\n",
    "    {type:\"Volvo\", year:2016},\n",
    "    {type:\"Saab\", year:2001},\n",
    "    {type:\"BMW\", year:2010}];\n",
    "\n",
    "cars.sort(function(a, b){return a.year - b.year});  //按照年份升序排序\n",
    "\n",
    "//数组迭代\n",
    "// Array.forEach()\n",
    "// forEach() 方法为每个数组元素调用一次函数（回调函数）。\n",
    "var txt = \"\";\n",
    "var numbers = [45, 4, 9, 16, 25];\n",
    "numbers.forEach(myFunction);\n",
    "\n",
    "function myFunction(value, index, array) {\n",
    "  txt = txt + value + \"<br>\"; \n",
    "}\n",
    "\n",
    "//项目值 项目索引 数组本身\n",
    "\n",
    "//map() 方法通过对每个数组元素执行函数来创建新数组。\n",
    "\n",
    "//map() 方法不会对没有值的数组元素执行函数。\n",
    "\n",
    "//map() 方法不会更改原始数组。\n",
    "var numbers1 = [45, 4, 9, 16, 25];\n",
    "var numbers2 = numbers1.map(\n",
    "    (value,index,array)=> `${value}--${index}`\n",
    ");\n",
    "\n",
    "//创建一个包含通过测试的数组元素的新数组\n",
    "var numbers = [45, 4, 9, 16, 25];\n",
    "var over18 = numbers.filter(myFunction);\n",
    "\n",
    "function myFunction(value) {\n",
    "  return value > 18;\n",
    "}\n",
    "\n",
    "//reduce 方法在每个数组元素上运行函数来生成单个值 从左到右工作，不会减少原始数组\n",
    "var numbers1 = [45, 4, 9, 16, 25];\n",
    "var sum = numbers1.reduce(myFunction);\n",
    "\n",
    "// 总数（初始值/先前返回的值） total(init)\n",
    "function myFunction(total, value, index, array) {\n",
    "  return total + value;\n",
    "}\n",
    "\n",
    "//reduce() 方法能够接受一个初始值：\n",
    "var sumStartWith100 = numbers1.reduce(myFunction, 100);\n",
    "\n",
    "// reduceRight() 方法在数组中从右到左工作。\n",
    "var numbers1 = [45, 4, 9, 16, 25];\n",
    "var sum = numbers1.reduceRight(myFunction);\n",
    "\n",
    "function myFunction(total, value, index, array) {\n",
    "  return total + value;\n",
    "}\n",
    "\n",
    "//检查是否所有数组元素都通过测试\n",
    "var numbers = [45, 4, 9, 16, 25];\n",
    "var allOver18 = numbers.every(myFunction);\n",
    "\n",
    "function myFunction(value) {\n",
    "  return value > 18;\n",
    "}\n",
    "\n",
    "//检查是否存在某些数组通过了测试\n",
    "var numbers = [45, 4, 9, 16, 25];\n",
    "var someOver18 = numbers.some(value=>value>18);\n",
    " \n",
    "//indexOf() 方法在数组中搜索元素值并返回其位置。 lastIndexOf()\n",
    "var fruits = [\"Apple\", \"Orange\", \"Apple\", \"Mango\"];\n",
    "var a = fruits.indexOf(\"Apple\");\n",
    "\n",
    "//find() 方法返回通过测试函数的第一个数组元素的值。\n",
    "//findIndex() 方法返回通过测试函数的第一个数组元素的索引\n",
    "var numbers = [4, 9, 16, 25, 29];\n",
    "var first = numbers.find(value=>value>18); //25\n",
    "var firstIndex = numbers.find(value=>value<5);\n",
    "//数组 Const\n",
    "const cars = [\"Saab\", \"Volvo\", \"BMW\"];\n",
    "//用 const 声明的数组不能重新赋值 它不定义常量数组。它定义的是对数组的常量引用。我们仍然可以更改常量数组的元素。\n",
    "cars[1] = 'Audi';\n"
   ]
  },
  {
   "cell_type": "code",
   "execution_count": 7,
   "metadata": {
    "dotnet_interactive": {
     "language": "javascript"
    },
    "polyglot_notebook": {
     "kernelName": "javascript"
    },
    "vscode": {
     "languageId": "polyglot-notebook"
    }
   },
   "outputs": [],
   "source": [
    "\n",
    "\n",
    "//new Date() 用当前日期和时间创建新的日期对象：\n",
    "//new Date(year, month, ...) 用指定日期和时间创建新的日期对象 年、月、日、小时、分钟、秒和毫秒\n",
    "var d = new Date(2018, 11, 24, 10, 33, 30, 0);\n",
    "\n",
    "//JavaScript 从 0 到 11 计算月份。\n",
    "var d = new Date(2018, 11, 24, 10, 33, 30);\n",
    "\n",
    "//不能省略月份。如果只提供一个参数，则将其视为毫秒。\n",
    "var d = new Date(2018);\n",
    "\n",
    "//一位和两位数年份将被解释为 19xx 年：\n",
    "var d = new Date(99, 11, 24);\n",
    "\n",
    "//Tue Jan 25 1910 00:00:00 GMT+0800 (China Standard Time)\n",
    "var d = new Date(9, 12, 25);\n",
    "\n",
    "//从日期字符串创建一个日期对象\n",
    "var d = new Date(\"October 13, 2014 11:13:00\");\n",
    "\n",
    "//将日期转换为utc字符串\n",
    "var d = new Date();\n",
    "document.getElementById(\"demo\").innerHTML = d.toUTCString();\n",
    "\n",
    "//将日期转换为更易读的格式\n",
    "var d = new Date();\n",
    "document.getElementById(\"demo\").innerHTML = d.toDateString();\n",
    "\n",
    "//ISO 8601 语法 (YYYY-MM-DD) 也是首选的 JavaScript 日期格式：\n",
    "var d = new Date(\"2018-02-19\");\n",
    "\n",
    "//ISO 日期  写日期也可以添加时、分和秒 (YYYY-MM-DDTHH:MM:SS)\n",
    "var d = new Date(\"2018-02-19T12:00:00\");\n",
    "\n",
    "//日期操作使用库  day.js npm install dayjs\n",
    "// import dayjs from 'dayjs' \n",
    "\n",
    "\n",
    "// Day.js对象是不可变的，也就是说，以某种方式改变Day.js对象的所有API操作都将返回它的一个新实例。\n",
    "// 直接调用 dayjs() 将返回一个包含当前日期和时间的 Day.js 对象。\n",
    "\n",
    "var now = dayjs();\n",
    "\n",
    "//初始化日期时间\n",
    "dayjs().format('YYYY-MM-DD');\t\t    // 初始化日期\n",
    "dayjs().format('YYYY-MM-DD HH:mm:ss');  // 初始化日期时间\n",
    "//格式化日期时间\n",
    "dayjs(value).format('YYYY-MM-DD');\t\t\t// 初始化日期\n",
    "dayjs(value).format('YYYY-MM-DD HH:mm:ss'); // 初始化日期时间\n",
    "\n",
    "//日期时间的加减\n",
    "dayjs().add(7, 'day').format('YYYY-MM-DD');   // 2022-04-27 今天（2022-04-20）加上7天\n",
    "dayjs().add(1, 'month').format('YYYY-MM-DD');   // 2022-05-20 今天（2022-04-20）加上一月\n",
    "\n",
    "dayjs().subtract(2, 'year').format('YYYY-MM-DD');   // 2020-05-20 今天（2022-04-20）减去2年\n",
    "dayjs().subtract(2, 'hour').format('YYYY-MM-DD HH:mm:ss');   // 2022-04-20 14:03:39 今天现在（2022-04-20 16:03:39）减去2小时\n",
    "\n",
    "//获取某年某月的第一天或者最后一天\n",
    "dayjs().startOf('year').format('YYYY-MM-DD HH:mm:ss')   // 2022-01-01 00:00:00  => 第一天格式化出来的时分秒都是0\n",
    "dayjs().startOf('month').format('YYYY-MM-DD')   // 2022-04-01\n",
    "dayjs().endOf('year').format('YYYY-MM-DD HH:mm:ss')   // 2022-12-31 23:59:59  => 最后时间 格式化出来的时分秒是23:59:59\n",
    "dayjs().endOf('month').format('YYYY-MM-DD')   // 2022-04-30\n",
    "\n",
    "//获取星期几\n",
    "dayjs().day(); //返回0(星期日)到6(星期六)的数字\n",
    "dayjs().day(6).format('YYYY-MM-DD'); //获取最近周六的日期 => 2022-04-23\n",
    "dayjs().day(0).format('YYYY-MM-DD'); //获取最近周日的日期 => 2022-04-17\n",
    "\n",
    "dayjs('2019-01-25').valueOf()\n",
    "dayjs().valueOf()  //获取毫秒数\n",
    "\n",
    "//获取时间差\n",
    "dayjs('2019-01-25').diff('2018-06-05', 'month');         // 7\n",
    "dayjs('2019-01-25').diff(dayjs('2018-06-05'), 'month');  // 7\n",
    "\n",
    "\n",
    "// 获取时分秒\n",
    "console.log('-----获取年', dayjs().year());    // ==>> 2022\n",
    "console.log('-----获取月', dayjs().month());   // 0到11的数字 ==>> 3\n",
    "console.log('-----获取星期', dayjs().day());   // 0(星期日)到6(星期六)的数字 ==>> 3\n",
    "console.log('-----获取天', dayjs().date());    // 1到31的数字 ==>> 20\n",
    "console.log('-----获取小时', dayjs().hour());  // 0到23的数字 ==>> 16\n",
    "console.log('-----获取分钟', dayjs().minute());// 0到59的数字 ==>> 55\n",
    "console.log('-----获取秒', dayjs().second());  // 0到59的数字 ==>> 55\n",
    "console.log('-----获取毫秒', dayjs().millisecond());  // 0到999的数字 ==>> 333\n",
    "\n",
    "\n",
    "// 将毫秒转为时分秒\n",
    "// 下面毫秒数代表：2022-04-20 17:43:20\n",
    "const timestr = 1650447800731;   // 毫秒值必须是number类型，如果是string，结果可能和你想的不一样\n",
    "console.log('将毫秒转为年-月-日 时:分:秒', dayjs(timestr).format('YYYY-MM-DD HH:mm:ss'));\n",
    "console.log('获取年', dayjs(timestr).year()); // \n",
    "console.log('获取月', dayjs(timestr).month());\n",
    "console.log('获取天', dayjs(timestr).date());\n",
    "console.log('获取时', dayjs(timestr).hour());\n",
    "console.log('获取分', dayjs(timestr).minute());\n",
    "\n",
    "//判断一个日期是否是在另外一个日期之后\n",
    "\n",
    "// day.js 为 2022-04-20\n",
    "console.log('isAfter', dayjs().isAfter(dayjs('2011-01-01'))) \t\t\t \t// true\n",
    "console.log('isAfter', dayjs('2022-04-20').isAfter(dayjs('2022-04-21')))\t// false\n",
    "console.log('isAfter', dayjs('2022-04-20').isAfter(dayjs('2022-04-20')))\t// 相同也为false\n",
    "\n",
    "// day.js 为 2022-04-20\n",
    "console.log('isBefore', dayjs().isBefore(dayjs('2011-01-01')))             // false\n",
    "console.log('isBefore', dayjs('2022-04-20').isBefore(dayjs('2022-04-21'))) // true\n",
    "console.log('isBefore', dayjs('2022-04-20').isBefore(dayjs('2022-04-20'))) // 日期相同时也为false\n",
    "\n",
    "// day.js 为 2022-04-20\n",
    "console.log('isSame', dayjs().isSame(dayjs('2011-01-01')))  \t\t\t// false\n",
    "console.log('isSame', dayjs('2022-04-20').isSame(dayjs('2022-04-21')))\t// false\n",
    "console.log('isSame', dayjs('2022-04-20').isSame(dayjs('2022-04-20')))\t// true\n",
    "\n",
    "\n",
    "\n"
   ]
  },
  {
   "cell_type": "code",
   "execution_count": null,
   "metadata": {
    "dotnet_interactive": {
     "language": "javascript"
    },
    "polyglot_notebook": {
     "kernelName": "javascript"
    },
    "vscode": {
     "languageId": "polyglot-notebook"
    }
   },
   "outputs": [],
   "source": [
    "//Math\n",
    "Math.ceil(6.4);     // 返回 7\n",
    "Math.floor(2.7);    // 返回 2\n",
    "Math.sin(90 * Math.PI / 180);      //返回1 \n",
    "//Math.random() 返回介于 0（包括） 与 1（不包括） 之间的随机数：\n",
    "Math.random();\n",
    "\n",
    "//返回范围内的随机整数\n",
    "function getRndInteger(min, max) {\n",
    "    return Math.floor(Math.random() * (max - min) ) + min;\n",
    "}"
   ]
  },
  {
   "cell_type": "code",
   "execution_count": 4,
   "metadata": {
    "dotnet_interactive": {
     "language": "javascript"
    },
    "polyglot_notebook": {
     "kernelName": "javascript"
    },
    "vscode": {
     "languageId": "polyglot-notebook"
    }
   },
   "outputs": [],
   "source": [
    "//错误处理\n",
    "function myFunction() {\n",
    "    var message, x;\n",
    "    message = document.getElementById(\"message\");\n",
    "    message.innerHTML = \"\";\n",
    "    x = document.getElementById(\"demo\").value;\n",
    "    try { \n",
    "        if(x == \"\") throw \"是空的\";\n",
    "        if(isNaN(x)) throw \"不是数字\";\n",
    "         x = Number(x);\n",
    "        if(x >  10) throw \"太大\";\n",
    "        if(x <  5) throw \"太小\";\n",
    "    }\n",
    "    catch(err) {\n",
    "        err.message = \"\";\n",
    "        err.name = \"System error\";\n",
    "        message.innerHTML = \"错误：\" + err + \".\";\n",
    "    }\n",
    "    finally {\n",
    "        document.getElementById(\"demo\").value = \"\";\n",
    "    }\n",
    "}"
   ]
  },
  {
   "cell_type": "code",
   "execution_count": null,
   "metadata": {
    "dotnet_interactive": {
     "language": "javascript"
    },
    "polyglot_notebook": {
     "kernelName": "javascript"
    },
    "vscode": {
     "languageId": "polyglot-notebook"
    }
   },
   "outputs": [],
   "source": [
    "// 提升（Hoisting）是 JavaScript 将声明移至顶部的默认行为。\n",
    "x = 5; // 把 5 赋值给 x\n",
    " \n",
    "elem = document.getElementById(\"demo\"); // 查找元素\n",
    "elem.innerHTML = x;                     // 在元素中显示 x\n",
    "\n",
    "var x; // 声明 x"
   ]
  },
  {
   "cell_type": "code",
   "execution_count": 5,
   "metadata": {
    "dotnet_interactive": {
     "language": "javascript"
    },
    "polyglot_notebook": {
     "kernelName": "javascript"
    },
    "vscode": {
     "languageId": "polyglot-notebook"
    }
   },
   "outputs": [],
   "source": [
    "//this 关键字\n",
    "var person = {\n",
    "    firstName: \"Bill\",\n",
    "    lastName : \"Gates\",\n",
    "    id       : 678,\n",
    "    fullName : function() {\n",
    "      return this.firstName + \" \" + this.lastName;\n",
    "    }\n",
    "  };"
   ]
  },
  {
   "cell_type": "markdown",
   "metadata": {},
   "source": [
    "JavaScript this 关键词指的是它所属的对象。\n",
    "\n",
    "它拥有不同的值，具体取决于它的使用位置：\n",
    "\n",
    "在方法中，this 指的是所有者对象。\n",
    "单独的情况下，this 指的是全局对象。\n",
    "在函数中，this 指的是全局对象。\n",
    "在函数中，严格模式下，this 是 undefined。\n",
    "在事件中，this 指的是接收事件的元素。\n",
    "像 call() 和 apply() 这样的方法可以将 this 引用到任何对象。"
   ]
  },
  {
   "cell_type": "markdown",
   "metadata": {},
   "source": [
    "在对象方法中，this 指的是此方法的“拥有者”。\n",
    "\n",
    "this 指的是 person 对象。\n",
    "\n",
    "person 对象是 fullName 方法的拥有者。\n",
    "在单独使用时，拥有者是全局对象，因此 this 指的是全局对象。\n",
    "在浏览器窗口中，全局对象是 [object Window]："
   ]
  },
  {
   "cell_type": "markdown",
   "metadata": {},
   "source": [
    "在 JavaScript 函数中，函数的拥有者默认绑定 this。\n",
    "\n",
    "因此，在函数中，this 指的是全局对象 [object Window]。"
   ]
  },
  {
   "cell_type": "code",
   "execution_count": null,
   "metadata": {
    "dotnet_interactive": {
     "language": "javascript"
    },
    "polyglot_notebook": {
     "kernelName": "javascript"
    },
    "vscode": {
     "languageId": "polyglot-notebook"
    }
   },
   "outputs": [],
   "source": [
    "function myFunction() {\n",
    "    return this; //全局对象 window\n",
    "  }\n",
    "\n",
    "  /*JavaScript 严格模式不允许默认绑定。\n",
    "\n",
    "  因此，在函数中使用时，在严格模式下，this 是未定义的（undefined）。\n",
    "   */\n",
    "  \"use strict\";\n",
    "  function myFunction() {\n",
    "    return this;   //undefined \n",
    "  }\n",
    "\n",
    "\n",
    "  //在 HTML 事件处理程序中，this 指的是接收此事件的 HTML 元素：\n",
    "  <button onclick=\"this.style.display='none'\">\n",
    "  点击来删除我！\n",
    "  </button>"
   ]
  },
  {
   "cell_type": "code",
   "execution_count": null,
   "metadata": {
    "dotnet_interactive": {
     "language": "javascript"
    },
    "polyglot_notebook": {
     "kernelName": "javascript"
    },
    "vscode": {
     "languageId": "polyglot-notebook"
    }
   },
   "outputs": [],
   "source": [
    "//call() 和 apply() 方法是预定义的 JavaScript 方法。\n",
    "// 它们都可以用于将另一个对象作为参数调用对象方法。\n",
    "//当使用 person2 作为参数调用 person1.fullName 时，this 将引用 person2，即使它是 person1 的方法\n",
    "var person1 = {\n",
    "    fullName: function() {\n",
    "      return this.firstName + \" \" + this.lastName;\n",
    "    }\n",
    "  }\n",
    "  var person2 = {\n",
    "    firstName:\"Bill\",\n",
    "    lastName: \"Gates\",\n",
    "  }\n",
    "  person1.fullName.call(person2);  // 会返回 \"Bill Gates\""
   ]
  },
  {
   "cell_type": "markdown",
   "metadata": {},
   "source": [
    "##### 箭头函数的this 绑定\n",
    "与常规函数相比，箭头函数对 this 的处理也有所不同。\n",
    "\n",
    "简而言之，使用箭头函数没有对 this 的绑定。\n",
    "\n",
    "在常规函数中，关键字 this 表示调用该函数的对象，可以是窗口、文档、按钮或其他任何东西。\n",
    "\n",
    "对于箭头函数，this 关键字始终表示定义箭头函数的对象。\n",
    "这两个例子都调用了两次方法，第一次是在页面加载时，第二次是在用户单击按钮时。第一个例子使用常规函数，第二个例子使用箭头函数。\n",
    "结果显示第一个例子返回两个不同的对象（window 和 button），第二个例子返回两次 window 对象，因为 window 对象是函数的“所有者”。"
   ]
  },
  {
   "cell_type": "code",
   "execution_count": null,
   "metadata": {
    "dotnet_interactive": {
     "language": "javascript"
    },
    "polyglot_notebook": {
     "kernelName": "javascript"
    },
    "vscode": {
     "languageId": "polyglot-notebook"
    }
   },
   "outputs": [],
   "source": [
    "// 常规函数：\n",
    "hello = function() {\n",
    "  document.getElementById(\"demo\").innerHTML += this;\n",
    "}\n",
    "\n",
    "// window 对象调用该函数：\n",
    "window.addEventListener(\"load\", hello);\n",
    "\n",
    "// button 对象调用该函数：\n",
    "document.getElementById(\"btn\").addEventListener(\"click\", hello);  // [object HTMLButtonElement]\n",
    "\n",
    "// 箭头函数： 用了箭头函数，则 this 表示函数的拥有者：\n",
    "\n",
    "//箭头功能没有自己的 this。它们不适合定义对象方法。箭头函数未被提升。它们必须在使用前进行定义。使用 const 比使用 var 更安全，因为函数表达式始终是常量值。\n",
    "const hello = () => {\n",
    "  document.getElementById(\"demo\").innerHTML += this;\n",
    "}\n",
    "\n",
    "// window 对象调用该函数：\n",
    "window.addEventListener(\"load\", hello);\n",
    "\n",
    "// button 对象调用该函数：\n",
    "document.getElementById(\"btn\").addEventListener(\"click\", hello);  // [object Window]"
   ]
  },
  {
   "cell_type": "code",
   "execution_count": null,
   "metadata": {
    "dotnet_interactive": {
     "language": "javascript"
    },
    "polyglot_notebook": {
     "kernelName": "javascript"
    },
    "vscode": {
     "languageId": "polyglot-notebook"
    }
   },
   "outputs": [],
   "source": [
    "//class \n",
    "\n",
    "//请始终添加名为 constructor() 的方法：\n",
    "class ClassName {\n",
    "    constructor() { ... }\n",
    "    method_1() { ... }\n",
    "    method_2() { ... }\n",
    "    method_3() { ... }\n",
    "  }"
   ]
  },
  {
   "cell_type": "markdown",
   "metadata": {},
   "source": [
    "JavaScript 类不是对象。\n",
    "\n",
    "它只是 JavaScript 对象的模板。"
   ]
  },
  {
   "cell_type": "markdown",
   "metadata": {},
   "source": []
  },
  {
   "cell_type": "code",
   "execution_count": null,
   "metadata": {
    "dotnet_interactive": {
     "language": "javascript"
    },
    "polyglot_notebook": {
     "kernelName": "javascript"
    },
    "vscode": {
     "languageId": "polyglot-notebook"
    }
   },
   "outputs": [],
   "source": [
    "// JavaScript 不会为每个代码块创建新的作用域。\n",
    "for (var i = 0; i < 10; i++) {\n",
    "    // 代码块\n",
    "  }\n",
    "  return i; //10\n",
    "\n",
    "  //减少循环中的活动\n",
    "  //循环每次迭代时，坏代码就会访问数组的 length 属性。\n",
    "var i;\n",
    "for (i = 0; i < arr.length; i++) {\n",
    "}\n",
    "\n",
    "\n",
    "//way 2 \n",
    "var arr = []\n",
    "for(i,item;item =arr[i++]){}\n",
    "\n",
    "//way 3\n",
    "var i;\n",
    "var l = arr.length;\n",
    "for (i = 0; i < l; i++) {}\n",
    "\n",
    "\n",
    "//减少对DOM的访问\n",
    "var obj;\n",
    "obj = document.getElementById(\"demo\");  // do not put this in loop \n",
    "obj.innerHTML = \"Hello\"; \n",
    "\n",
    "//避免不必要的变量\n",
    "var fullName = firstName + \" \" + lastName;\n",
    "document.getElementById(\"demo\").innerHTML = fullName; \n",
    "\n",
    "document.getElementById(\"demo\").innerHTML = firstName + \" \" + lastName\n",
    "\n",
    "//把脚本放在页面底部，使浏览器首先加载页面。"
   ]
  },
  {
   "cell_type": "code",
   "execution_count": 7,
   "metadata": {
    "dotnet_interactive": {
     "language": "javascript"
    },
    "polyglot_notebook": {
     "kernelName": "javascript"
    },
    "vscode": {
     "languageId": "polyglot-notebook"
    }
   },
   "outputs": [
    {
     "ename": "Error",
     "evalue": "Unexpected token 'set'",
     "output_type": "error",
     "traceback": [
      "Unexpected token 'set'"
     ]
    }
   ],
   "source": [
    "//ES5\n",
    "// 创建对象：\n",
    "var person = {\n",
    "  firstName: \"Bill\",\n",
    "  lastName : \"Gates\",\n",
    "  get fullName() {\n",
    "    return this.firstName + \" \" + this.lastName;\n",
    "  }\n",
    "\n",
    "  set firstName(name){\n",
    "    this.firstName = name.toLowerCase();\n",
    "  }\n",
    "};\n",
    "\n",
    "// 使用 getter 显示来自对象的数据：\n",
    "document.getElementById(\"demo\").innerHTML = person.fullName;\n",
    "\n",
    "//Object.defineProperty() 是 ES5 中的新对象方法。\n",
    "\n",
    "// 创建对象：\n",
    "var person1 = {\n",
    "  firstName: \"Bill\",\n",
    "  lastName : \"Gates\",\n",
    "  language : \"NO\", \n",
    "};\n",
    "\n",
    "// 更改属性：\n",
    "Object.defineProperty(person1, \"language\", {\n",
    "  value: \"EN\",\n",
    "  writable : true,\n",
    "  enumerable : true,\n",
    "  configurable : true\n",
    "});\n",
    "// 添加Getter 和 Setter\n",
    "Object.defineProperty(person, \"language\", {\n",
    "    get : function() { return language },\n",
    "    set : function(value) { language = value.toUpperCase()}\n",
    "  });\n",
    "\n",
    "// 枚举属性\n",
    "var txt = \"\";\n",
    "for (var x in person) {\n",
    "  txt += person[x] + \"<br>\";\n",
    "}\n",
    "document.getElementById(\"demo\").innerHTML = txt;\n",
    "\n",
    "\n",
    "// 将可枚举属性作为数组返回\n",
    "Object.keys(object);\n",
    "// 访问原型\n",
    "Object.getPrototypeOf(object)\n",
    "// 防止向对象添加属性\n",
    "Object.preventExtensions(object)\n",
    "\n",
    "// 防止更改对象属性（而不是值）\n",
    "Object.seal(object)\n",
    "\n",
    "// 如果对象被密封，则返回 true\n",
    "Object.isSealed(object)\n",
    "\n",
    "// 防止对对象进行任何更改\n",
    "Object.freeze(object)\n",
    "\n",
    "// 如果对象被冻结，则返回 true\n",
    "Object.isFrozen(object)"
   ]
  },
  {
   "cell_type": "code",
   "execution_count": 13,
   "metadata": {
    "dotnet_interactive": {
     "language": "javascript"
    },
    "polyglot_notebook": {
     "kernelName": "javascript"
    },
    "vscode": {
     "languageId": "polyglot-notebook"
    }
   },
   "outputs": [
    {
     "data": {
      "text/plain": [
       "0005"
      ]
     },
     "metadata": {},
     "output_type": "display_data"
    }
   ],
   "source": [
    "// ECMAScript 2017 添加了两个 String 方法：padStart 和 padEnd，以支持在字符串的开头和结尾进行填充。\n",
    "\n",
    "var str = \"5\";\n",
    "str = str.padStart(4,0);\n",
    "// 结果是： 0005\n",
    "\n",
    "\n",
    "var str = str.padEnd(4,0);  //5000\n",
    "console.log(str)  "
   ]
  },
  {
   "cell_type": "code",
   "execution_count": 14,
   "metadata": {
    "dotnet_interactive": {
     "language": "javascript"
    },
    "polyglot_notebook": {
     "kernelName": "javascript"
    },
    "vscode": {
     "languageId": "polyglot-notebook"
    }
   },
   "outputs": [
    {
     "data": {
      "text/plain": [
       "5000"
      ]
     },
     "metadata": {},
     "output_type": "display_data"
    }
   ],
   "source": [
    "let str = \"5\";\n",
    "str = str.padEnd(4,0);\n",
    "// 结果是： 5000\n",
    "console.log(str)"
   ]
  },
  {
   "cell_type": "code",
   "execution_count": 24,
   "metadata": {
    "dotnet_interactive": {
     "language": "javascript"
    },
    "polyglot_notebook": {
     "kernelName": "javascript"
    },
    "vscode": {
     "languageId": "polyglot-notebook"
    }
   },
   "outputs": [
    {
     "data": {
      "text/plain": [
       "firstName--->Bill"
      ]
     },
     "metadata": {},
     "output_type": "display_data"
    },
    {
     "data": {
      "text/plain": [
       "lastName--->Gates"
      ]
     },
     "metadata": {},
     "output_type": "display_data"
    },
    {
     "data": {
      "text/plain": [
       "age--->50"
      ]
     },
     "metadata": {},
     "output_type": "display_data"
    },
    {
     "data": {
      "text/plain": [
       "eyeColor--->blue"
      ]
     },
     "metadata": {},
     "output_type": "display_data"
    },
    {
     "data": {
      "application/json": {}
     },
     "metadata": {},
     "output_type": "display_data"
    }
   ],
   "source": [
    "// ECMAScript 2017 向对象添加了新的 Object.entries 方法。\n",
    "\n",
    "// Object.entries() 方法返回对象中键/值对的数组：\n",
    "\n",
    "const person = {\n",
    "    firstName : \"Bill\",\n",
    "    lastName : \"Gates\",\n",
    "    age : 50,\n",
    "    eyeColor : \"blue\"\n",
    "};\n",
    "  //document.getElementById(\"demo\").innerHTML = Object.entries(person); //firstName,Bill,lastName,Gates,age,19,eyeColor,blue\n",
    "var entries = Object.entries(person)\n",
    "\n",
    "for (let [key,value] of entries){\n",
    "console.log(`${key}--->${value}`)\n",
    "}\n",
    "\n",
    "\n",
    "const fruits = {Bananas:300, Oranges:200, Apples:500};\n",
    "\n",
    "const myMap = new Map(Object.entries(fruits));\n",
    "\n",
    "console.log(myMap)"
   ]
  },
  {
   "cell_type": "code",
   "execution_count": null,
   "metadata": {
    "dotnet_interactive": {
     "language": "javascript"
    },
    "polyglot_notebook": {
     "kernelName": "javascript"
    },
    "vscode": {
     "languageId": "polyglot-notebook"
    }
   },
   "outputs": [],
   "source": [
    "// Object.values 类似 Object.entries，但返回对象值的单维数组：\n",
    "\n",
    "const person = {\n",
    "    firstName : \"Bill\",\n",
    "    lastName : \"Gates\",\n",
    "    age : 50,\n",
    "    eyeColor : \"blue\"\n",
    "  };\n",
    "  document.getElementById(\"demo\").innerHTML = Object.values(person);"
   ]
  },
  {
   "cell_type": "code",
   "execution_count": 25,
   "metadata": {
    "dotnet_interactive": {
     "language": "javascript"
    },
    "polyglot_notebook": {
     "kernelName": "javascript"
    },
    "vscode": {
     "languageId": "polyglot-notebook"
    }
   },
   "outputs": [],
   "source": [
    "//async 函数\n",
    "async function myDisplay() {\n",
    "    let myPromise = new Promise(function(myResolve, myReject) {\n",
    "      setTimeout(function() { myResolve(\"I love You !!\"); }, 3000);\n",
    "    });\n",
    "    document.getElementById(\"demo\").innerHTML = await myPromise;\n",
    "  }\n",
    "  \n",
    "  myDisplay();"
   ]
  },
  {
   "cell_type": "code",
   "execution_count": null,
   "metadata": {
    "dotnet_interactive": {
     "language": "javascript"
    },
    "polyglot_notebook": {
     "kernelName": "javascript"
    },
    "vscode": {
     "languageId": "polyglot-notebook"
    }
   },
   "outputs": [],
   "source": [
    "// 必须在循环中使用 person[x]。\n",
    "\n",
    "// person.x 将不起作用（因为 x 是一个变量）。\n",
    "\n",
    "const person = {\n",
    "    name: \"Bill\",\n",
    "    age: 19,\n",
    "    city: \"Seattle\"\n",
    "  };\n",
    "  \n",
    "  let txt = \"\";\n",
    "  for (let x in person) {\n",
    "  txt += person[x] + \" \";\n",
    "  };\n",
    "  \n",
    "\n",
    "  //使用json 显示对象\n",
    "  const person = {\n",
    "    name: \"Bill\",\n",
    "    age: 19,\n",
    "    city: \"Seattle\"\n",
    "  };\n",
    "  \n",
    "  let myString = JSON.stringify(person);"
   ]
  },
  {
   "cell_type": "code",
   "execution_count": 26,
   "metadata": {
    "dotnet_interactive": {
     "language": "javascript"
    },
    "polyglot_notebook": {
     "kernelName": "javascript"
    },
    "vscode": {
     "languageId": "polyglot-notebook"
    }
   },
   "outputs": [
    {
     "ename": "Error",
     "evalue": "Unexpected identifier 'Person'",
     "output_type": "error",
     "traceback": [
      "Unexpected identifier 'Person'"
     ]
    }
   ],
   "source": [
    "// 所有 JavaScript 对象都从原型继承属性和方法。\n",
    "\n",
    "// 日期对象继承自 Date.prototype。数组对象继承自 Array.prototype。Person 对象继承自 Person.prototype。\n",
    "\n",
    "// Object.prototype 位于原型继承链的顶端：\n",
    "\n",
    "// 日期对象、数组对象和 Person 对象都继承自 Object.prototype。\n",
    "\n",
    "// JavaScript prototype 属性允许您为对象构造器添加新属性：\n",
    "class Person{\n",
    "    function Person(first, last, age, eyecolor) {\n",
    "        this.firstName = first;\n",
    "        this.lastName = last;\n",
    "        this.age = age;\n",
    "        this.eyeColor = eyecolor;\n",
    "    }\n",
    "\n",
    "}\n",
    "Person.prototype.nationality = \"English\";"
   ]
  },
  {
   "cell_type": "code",
   "execution_count": null,
   "metadata": {
    "dotnet_interactive": {
     "language": "javascript"
    },
    "polyglot_notebook": {
     "kernelName": "javascript"
    },
    "vscode": {
     "languageId": "polyglot-notebook"
    }
   },
   "outputs": [],
   "source": [
    "// JavaScript 的 Set（集合）是一组唯一值的集合。\n",
    "\n",
    "// 每个值只能在 Set 中出现一次。\n",
    "\n",
    "// Set 可以容纳任何数据类型的值。\n",
    "\n",
    "// 创建 Set\n",
    "const letters = new Set([\"a\",\"b\",\"c\"]);\n",
    "\n",
    "\n",
    "// 将值添加到 Set\n",
    "letters.add(\"a\");\n",
    "letters.add(\"b\");\n",
    "letters.add(\"c\");\n",
    "\n",
    "// 列出所有条目\n",
    "let text = \"\";\n",
    "letters.forEach (function(value) {\n",
    "  text += value;\n",
    "})\n",
    "\n",
    "\n",
    "//返回迭代器对象\n",
    "letters.values()   // 返回 [object Set Iterator]\n",
    "// 列出所有值\n",
    "let text = \"\";\n",
    "for (const entry of myIterator) {\n",
    "  text += entry;\n",
    "}"
   ]
  },
  {
   "cell_type": "code",
   "execution_count": null,
   "metadata": {
    "dotnet_interactive": {
     "language": "javascript"
    },
    "polyglot_notebook": {
     "kernelName": "javascript"
    },
    "vscode": {
     "languageId": "polyglot-notebook"
    }
   },
   "outputs": [],
   "source": [
    "// Map 保存键值对，其中键可以是任何数据类型。\n",
    "\n",
    "// Map 会记住键的原始插入顺序。\n",
    "\n",
    "// Map 提供表示映射大小的属性。\n",
    "// 创建一个 Map\n",
    "const fruits = new Map([\n",
    "  [\"apples\", 500],\n",
    "  [\"bananas\", 300],\n",
    "  [\"oranges\", 200]\n",
    "]);\n",
    "\n",
    "\n",
    "// 设置 Map 的值\n",
    "fruits.set(\"apples\", 500);\n",
    "fruits.set(\"bananas\", 300);\n",
    "fruits.set(\"oranges\", 200);\n",
    "\n",
    "//update\n",
    "fruits.set(\"apples\", 500);\n",
    "\n",
    "//get\n",
    "fruits.get(\"apples\");    // 返回 500\n",
    "\n",
    "//size\n",
    "fruits.size;\n",
    "\n",
    "//remove\n",
    "fruits.delete(\"apples\");\n",
    "fruits.clear();\n",
    "\n",
    "//contains\n",
    "fruits.has(\"apples\");\n",
    "\n",
    "// 列出所有条目\n",
    "let text = \"\";\n",
    "fruits.forEach (function(value, key) {\n",
    "  text += key + ' = ' + value;\n",
    "})\n",
    "// 列出所有条目\n",
    "let text = \"\";\n",
    "for (const x of fruits.entries()) {\n",
    "  text += x;\n",
    "}\n",
    "\n",
    "//keys\n",
    "// 列出所有键\n",
    "let text = \"\";\n",
    "for (const x of fruits.keys()) {\n",
    "  text += x;\n",
    "}\n",
    "//values\n",
    "let text = \"\";\n",
    "for (const x of fruits.values()) {\n",
    "  text += x;\n",
    "}\n",
    "\n",
    "\n",
    "\n",
    "//对象用作key\n",
    "// 创建对象\n",
    "const apples = {name: 'Apples'};\n",
    "const bananas = {name: 'Bananas'};\n",
    "const oranges = {name: 'Oranges'};\n",
    "\n",
    "// 创建 Map\n",
    "const fruits = new Map();\n",
    "\n",
    "// Add new Elements to the Map\n",
    "fruits.set(apples, 500);\n",
    "fruits.set(bananas, 300);\n",
    "fruits.set(oranges, 200);\n",
    "\n",
    "fruits.get(\"apples\");  // 返回 undefined "
   ]
  },
  {
   "cell_type": "code",
   "execution_count": 28,
   "metadata": {
    "dotnet_interactive": {
     "language": "javascript"
    },
    "polyglot_notebook": {
     "kernelName": "javascript"
    },
    "vscode": {
     "languageId": "polyglot-notebook"
    }
   },
   "outputs": [
    {
     "ename": "Error",
     "evalue": "person is not iterable",
     "output_type": "error",
     "traceback": [
      "person is not iterable"
     ]
    }
   ],
   "source": [
    "var person = {\n",
    "    'name':'jack',\n",
    "    'age':11\n",
    "}\n",
    "\n",
    "//person is not iterable\n",
    "for(var item of person){}"
   ]
  },
  {
   "cell_type": "markdown",
   "metadata": {},
   "source": [
    "##### 函数是对象\n",
    "JavaScript 中的 typeof 运算符会为函数返回 \"function\"。\n",
    "\n",
    "但是最好是把 JavaScript 函数描述为对象。\n",
    "\n",
    "JavaScript 函数都有属性和方法。\n",
    "\n",
    "arguments.length 会返回函数被调用时收到的参数数目："
   ]
  },
  {
   "cell_type": "code",
   "execution_count": 30,
   "metadata": {
    "dotnet_interactive": {
     "language": "javascript"
    },
    "polyglot_notebook": {
     "kernelName": "javascript"
    },
    "vscode": {
     "languageId": "polyglot-notebook"
    }
   },
   "outputs": [
    {
     "data": {
      "text/plain": [
       "3"
      ]
     },
     "metadata": {},
     "output_type": "display_data"
    }
   ],
   "source": [
    "//js 函数\n",
    "\n",
    "function myFunction(a, b) {\n",
    "    return arguments.length;\n",
    "}\n",
    "console.log(myFunction(1,2,3))\n",
    "\n",
    "//JavaScript 函数不会对参数值进行任何检查。\n",
    "// 函数参数（parameter）指的是在函数定义中列出的名称。\n",
    "\n",
    "// 函数参数（argument）指的是传递到函数或由函数接收到的真实值。\n",
    "\n",
    "// 如果调用参数时省略了参数（少于被声明的数量），则丢失的值被设置为：undefined。\n",
    "\n",
    "// 有时这是可以接受的，但是有时最好给参数指定默认值：\n",
    "\n",
    "// 使用 call() 方法，可以编写能够在不同对象上使用的方法。\n",
    "\n",
    "//函数是对象的方法 如果不是，那就是全局对象的方法\n",
    "\n",
    "//call 方法可以携带参数\n",
    "var person = {\n",
    "    fullName: function(city, country) {\n",
    "      return this.firstName + \" \" + this.lastName + \",\" + city + \",\" + country;\n",
    "    }\n",
    "  }\n",
    "  var person1 = {\n",
    "    firstName:\"Bill\",\n",
    "    lastName: \"Gates\"\n",
    "  }\n",
    "  person.fullName.call(person1, \"Seattle\", \"USA\");\n",
    "\n",
    "  //apply方法与call方法十分相似\n",
    "var person = {\n",
    "    fullName: function() {\n",
    "        return this.firstName + \" \" + this.lastName;\n",
    "    }\n",
    "}\n",
    "\n",
    "var person1 = {\n",
    "    firstName: \"Bill\",\n",
    "    lastName: \"Gates\",\n",
    "}\n",
    "person.fullName.apply(person1);  // 将返回 \"Bill Gates\"\n",
    "\n",
    "// call() 方法分别接受参数。apply() 方法接受数组形式的参数。\n",
    "\n",
    "// 如果要使用数组而不是参数列表，则 apply() 方法非常方便。\n",
    "\n",
    "var person = {\n",
    "    fullName: function(city, country) {\n",
    "      return this.firstName + \" \" + this.lastName + \",\" + city + \",\" + country;\n",
    "    }\n",
    "  }\n",
    "  var person1 = {\n",
    "    firstName:\"Bill\",\n",
    "    lastName: \"Gates\"\n",
    "  }\n",
    "  person.fullName.apply(person1, [\"Oslo\", \"Norway\"]);\n",
    "  person.fullName.call(person1, \"Oslo\", \"Norway\");\n",
    "\n",
    "  //max方法接受一些参数\n",
    "  Math.max(1,2,3);  // 会返回 3\n",
    "  //数组没有max方法，可以应用max方法在数组上\n",
    "  Math.max.apply(null, [1,2,3]); // 也会返回 3  第一个参数无所谓"
   ]
  },
  {
   "cell_type": "code",
   "execution_count": null,
   "metadata": {
    "dotnet_interactive": {
     "language": "javascript"
    },
    "polyglot_notebook": {
     "kernelName": "javascript"
    },
    "vscode": {
     "languageId": "polyglot-notebook"
    }
   },
   "outputs": [],
   "source": [
    "// 函数借用（Function Borrowing）\n",
    "// 通过使用 bind() 方法，一个对象可以从另一个对象借用一个方法。\n",
    "\n",
    "// 下面的例子创建了 2 个对象（person 和 member）。\n",
    "\n",
    "// member 对象借用了 person 对象的 fullname 方法：\n",
    "const person = {\n",
    "    firstName:\"Bill\",\n",
    "    lastName: \"Gates\",\n",
    "    fullName: function () {\n",
    "      return this.firstName + \" \" + this.lastName;\n",
    "    }\n",
    "  }\n",
    "  \n",
    "  const member = {\n",
    "    firstName:\"Hege\",\n",
    "    lastName: \"Nilsen\",\n",
    "  }\n",
    "  \n",
    " \n",
    "  // bind(借用者) 返回的是member对象的方法\n",
    "  let fullName = person.fullName.bind(member);\n",
    "\n",
    "  //有时必须使用 bind() 方法来防止丢失 this\n",
    "//   person 对象有一个 display 方法。在 display 方法中，this 指的是 person 对象：\n",
    "const person = {\n",
    "    firstName:\"Bill\",\n",
    "    lastName: \"Gates\",\n",
    "    display: function () {\n",
    "      let x = document.getElementById(\"demo\");\n",
    "      x.innerHTML = this.firstName + \" \" + this.lastName;\n",
    "    }\n",
    "  }\n",
    "  //函数用作回调时，this 会丢失\n",
    "  const person = {\n",
    "    firstName:\"Bill\",\n",
    "    lastName: \"Gates\",\n",
    "    display: function () {\n",
    "      let x = document.getElementById(\"demo\");\n",
    "      x.innerHTML = this.firstName + \" \" + this.lastName;\n",
    "    }\n",
    "  }\n",
    "   \n",
    "  setTimeout(person.display, 3000);  //undefined\n",
    "\n",
    "  // bind() 方法用于将 person.display 绑定到 person\n",
    "  // call()、apply() 和 bind() 等方法可以将 this 引用到任何对象。\n",
    "  const person = {\n",
    "    firstName:\"Bill\",\n",
    "    lastName: \"Gates\",\n",
    "    display: function () {\n",
    "      let x = document.getElementById(\"demo\");\n",
    "      x.innerHTML = this.firstName + \" \" + this.lastName;\n",
    "    }\n",
    "  }\n",
    "  \n",
    "  let display = person.display.bind(person);\n",
    "  setTimeout(display, 3000);"
   ]
  },
  {
   "cell_type": "markdown",
   "metadata": {},
   "source": [
    "\"I Promise a Result!\"\n",
    "\n",
    "\"Producing code（生产代码）\" 是需要一些时间的代码\n",
    "\n",
    "\"Consuming code（消费代码）\" 是必须等待结果的代码\n",
    "\n",
    "Promise 是一个 JavaScript 对象，它链接生成代码和消费代码"
   ]
  },
  {
   "cell_type": "code",
   "execution_count": null,
   "metadata": {
    "dotnet_interactive": {
     "language": "javascript"
    },
    "polyglot_notebook": {
     "kernelName": "javascript"
    },
    "vscode": {
     "languageId": "polyglot-notebook"
    }
   },
   "outputs": [],
   "source": [
    "let myPromise = new Promise(function(myResolve, myReject) {\n",
    "    // \"Producing Code\"（可能需要一些时间）\n",
    "    \n",
    "      myResolve(); // 成功时\n",
    "      myReject();  // 出错时\n",
    "    });\n",
    "    \n",
    "    // \"Consuming Code\" （必须等待一个兑现的承诺）\n",
    "    myPromise.then(\n",
    "      function(value) { /* 成功时的代码 */ },\n",
    "      function(error) { /* 出错时的代码 */ }\n",
    "    );"
   ]
  },
  {
   "cell_type": "code",
   "execution_count": null,
   "metadata": {
    "dotnet_interactive": {
     "language": "javascript"
    },
    "polyglot_notebook": {
     "kernelName": "javascript"
    },
    "vscode": {
     "languageId": "polyglot-notebook"
    }
   },
   "outputs": [],
   "source": [
    "// 函数前的关键字 async 使函数返回 promise：\n",
    "async function myFunction() {\n",
    "    return \"Hello\";\n",
    "  }\n",
    "\n",
    "async function myFunction() {\n",
    "    return Promise.resolve(\"Hello\");\n",
    "  }\n",
    "\n",
    "  myFunction().then(\n",
    "    function(value) { /* 成功时的代码 */ },\n",
    "    function(error) { /* 出错时的代码 */ }\n",
    "  );\n",
    "\n",
    "  let value = await promise;"
   ]
  },
  {
   "cell_type": "markdown",
   "metadata": {},
   "source": [
    "### Js DOM\n",
    "JavaScript 能改变页面中的所有 HTML 元素\n",
    "JavaScript 能改变页面中的所有 HTML 属性\n",
    "JavaScript 能改变页面中的所有 CSS 样式\n",
    "JavaScript 能删除已有的 HTML 元素和属性\n",
    "JavaScript 能添加新的 HTML 元素和属性\n",
    "JavaScript 能对页面中所有已有的 HTML 事件作出反应\n",
    "JavaScript 能在页面中创建新的 HTML 事件"
   ]
  },
  {
   "cell_type": "code",
   "execution_count": null,
   "metadata": {
    "dotnet_interactive": {
     "language": "csharp"
    },
    "polyglot_notebook": {
     "kernelName": "csharp"
    },
    "vscode": {
     "languageId": "polyglot-notebook"
    }
   },
   "outputs": [],
   "source": []
  }
 ],
 "metadata": {
  "language_info": {
   "name": "python"
  },
  "orig_nbformat": 4
 },
 "nbformat": 4,
 "nbformat_minor": 2
}
